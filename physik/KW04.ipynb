{
 "cells": [
  {
   "cell_type": "code",
   "execution_count": 13,
   "id": "d90eb43e-7958-4be9-b684-e9e330b05547",
   "metadata": {},
   "outputs": [
    {
     "name": "stdout",
     "output_type": "stream",
     "text": [
      "E : 19.061950286506313\n",
      "A : 21.32983524451319\n",
      "D : 21.77881323173132\n",
      "g : 16.61492775121138\n",
      "h : 15.782840814971664\n",
      "e : 15.056725941445668\n"
     ]
    }
   ],
   "source": [
    "import numpy as np\n",
    "\n",
    "length = 0.6500 # m\n",
    "density = 1160 # kg m^-3\n",
    "\n",
    "'''\n",
    "Calculates the force required for a guitar string\n",
    "frequency in Hz, width in mm\n",
    "'''\n",
    "def calculate_newton(name, frequency, width):\n",
    "    width = width / 1000\n",
    "    radius = width / 2\n",
    "    area = radius**2 * np.pi\n",
    "    result = (2 * frequency * length)**2 * area * density\n",
    "    print(name, \":\", result)\n",
    "\n",
    "calculate_newton(\"E\", 82.42, 1.35)\n",
    "calculate_newton(\"A\", 110.00, 1.07)\n",
    "calculate_newton(\"D\", 146.83, 0.81)\n",
    "calculate_newton(\"g\", 196.00, 0.53)\n",
    "calculate_newton(\"h\", 246.94, 0.41)\n",
    "calculate_newton(\"e\", 329.63, 0.30)"
   ]
  },
  {
   "cell_type": "code",
   "execution_count": null,
   "id": "495f30b4-02ef-44a8-a855-81449ae9b262",
   "metadata": {},
   "outputs": [],
   "source": []
  }
 ],
 "metadata": {
  "kernelspec": {
   "display_name": "Python 3 (ipykernel)",
   "language": "python",
   "name": "python3"
  },
  "language_info": {
   "codemirror_mode": {
    "name": "ipython",
    "version": 3
   },
   "file_extension": ".py",
   "mimetype": "text/x-python",
   "name": "python",
   "nbconvert_exporter": "python",
   "pygments_lexer": "ipython3",
   "version": "3.8.10"
  }
 },
 "nbformat": 4,
 "nbformat_minor": 5
}
