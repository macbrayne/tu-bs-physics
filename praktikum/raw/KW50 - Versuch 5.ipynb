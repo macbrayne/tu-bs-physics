{
 "cells": [
  {
   "cell_type": "code",
   "execution_count": 3,
   "id": "929f4a4c-a4ef-4029-96b1-59bb0a38876b",
   "metadata": {},
   "outputs": [],
   "source": [
    "anfangslaenge_stahl = 117.8 # cm"
   ]
  },
  {
   "cell_type": "markdown",
   "id": "57de73bc-a326-4202-8f9a-bef06a63a96c",
   "metadata": {},
   "source": [
    "## Versuchsteil 1:\n",
    "\n",
    "### Stahldraht:\n",
    "\n",
    "Startwert: 2\n",
    "\n",
    "Gewicht (g) | Länge (mm)\n",
    "--- | ---\n",
    "+111 | 12.5\n",
    "+110 | 29\n",
    "+109 | 44\n",
    "+106 | 59\n",
    "+99 | 72\n",
    "+98 | 83\n",
    "+93 | 95\n",
    "+91 | 106,5\n",
    "+90 | 118\n",
    "+89 | 127\n",
    "+86 | 139\n",
    "+85 | 149\n",
    "+85 | 159\n",
    "+80 | 171\n",
    "+80 | 180\n",
    "+78 | 192\n",
    "+76 | 205\n",
    "+73 | 216\n",
    "+71 | 222\n",
    "+69 | 231\n",
    "+64 | 239\n",
    "+46 | 245"
   ]
  },
  {
   "cell_type": "markdown",
   "id": "67aa11f7-3856-4744-af43-23f809556d90",
   "metadata": {},
   "source": [
    "Gewicht (g) | Länge (mm)\n",
    "--- | ---\n",
    "0 | 245\n",
    "-49 | 240\n",
    "-64 | 233.5\n",
    "-69 | 225\n",
    "-71 | 216\n",
    "-73 | 206\n",
    "-76 | 198\n",
    "-78 | 188\n",
    "-80 | 177\n",
    "-80 | 168\n",
    "-85 | 157\n",
    "-85 | 147\n",
    "-86 | 132.5\n",
    "-89 | 122\n",
    "-90 | 110\n",
    "-91 | 101\n",
    "-93 | 87\n",
    "-98 | 76\n",
    "-99 | 62\n",
    "-106 | 48.5\n",
    "-109 | 34\n",
    "-110 | 17\n",
    "-111 | 4.5"
   ]
  },
  {
   "cell_type": "markdown",
   "id": "98d9810b-878f-4853-b03c-052b2d868000",
   "metadata": {},
   "source": [
    "Fehler von 0,002mm\n",
    "\n",
    "| Stahldraht (mm) | Stahldraht (mm) mit Gewicht 1kg |\n",
    "| --------------- | ------------------------------- |\n",
    "| 0.047 | 0.044 |\n",
    "| 0.0475 | 0.043 |\n",
    "| 0.047 + x | 0.431 |\n",
    "| 0.047 | 0.0431 |\n",
    "| 0.0465 | 0.0435 |\n",
    "| 0.0472 + x | 0.044 |\n",
    "| 0.0475 | 0.0439 |\n",
    "| 0.047 | 0.045 |\n",
    "| 0.0469 | 0.045 |\n",
    "| 0.0469 | 0.045 |"
   ]
  },
  {
   "cell_type": "code",
   "execution_count": null,
   "id": "a1ccacdd-e9c3-4b11-8639-33ba451eb55e",
   "metadata": {},
   "outputs": [],
   "source": [
    "anfangslaenge_messing = 116.5 # cm"
   ]
  },
  {
   "cell_type": "markdown",
   "id": "7373f624-bd5a-4b68-a162-ba8a3317e29d",
   "metadata": {},
   "source": [
    "### Messingdraht:\n",
    "\n",
    "Anfangswert: 2\n",
    "\n",
    "Gewicht (g) | Länge (mm)\n",
    "--- | ---\n",
    "+111 | 39\n",
    "+110 | 73\n",
    "+109 | 109\n",
    "+106 | 154\n",
    "+99 | 186\n",
    "+98 | 252\n",
    "+93 | 286\n",
    "+91 | 286\n",
    "+90 | \n",
    "+89 | \n",
    "+86 | \n",
    "+85 | \n",
    "+85 | \n",
    "+80 | \n",
    "+80 | \n",
    "+78 | \n",
    "+76 | \n",
    "+73 | \n",
    "+71 | \n",
    "+69 | \n",
    "+64 | \n",
    "+46 | "
   ]
  },
  {
   "cell_type": "code",
   "execution_count": null,
   "id": "a0e93b24-c494-4490-83e8-6342ef9aaed2",
   "metadata": {},
   "outputs": [],
   "source": []
  }
 ],
 "metadata": {
  "kernelspec": {
   "display_name": "Python 3 (ipykernel)",
   "language": "python",
   "name": "python3"
  },
  "language_info": {
   "codemirror_mode": {
    "name": "ipython",
    "version": 3
   },
   "file_extension": ".py",
   "mimetype": "text/x-python",
   "name": "python",
   "nbconvert_exporter": "python",
   "pygments_lexer": "ipython3",
   "version": "3.8.10"
  }
 },
 "nbformat": 4,
 "nbformat_minor": 5
}
