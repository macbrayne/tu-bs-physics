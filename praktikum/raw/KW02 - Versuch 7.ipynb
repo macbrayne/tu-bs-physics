{
 "cells": [
  {
   "cell_type": "markdown",
   "id": "e94d7c56-37fa-417f-b64d-78bec8097981",
   "metadata": {},
   "source": [
    "# KW 02 - Versuch 07\n",
    "\n",
    "Betreuender HIWI: Raphael \n",
    "\n",
    "53,1 kOhm\n",
    "796 mV\n",
    "20°C.\n",
    "\n",
    "\n"
   ]
  },
  {
   "cell_type": "markdown",
   "id": "a34c0a2a-b0e5-4100-bef5-3be3f9ac01e2",
   "metadata": {},
   "source": [
    "Aufgabe 2:\n",
    "\n",
    "0,701 mV\n",
    "\n",
    "| Alkoholthermometer °C | Widerstandsthermometer kOhm |   |\n",
    "|-----------------------|-----------------------------|---|\n",
    "| 90                    | 3,075                       |   |\n",
    "| 86                    | 3,600                       |   |\n",
    "| 83                    | 4,03                        |   |\n",
    "| 80                    | 4,45                        |   |\n",
    "| 78                    | 4,85                        |   |\n",
    "| 76                    | 5,14                        |   |\n",
    "| 75                    | 5,3                         |   |\n",
    "| 73                    | 5,74                        |   |\n",
    "| 72                    | 5,99                        |   |\n",
    "| 70                    | 6,36                        |   |\n",
    "| 69                    | 6,75                        |   |\n",
    "| 67                    | 7,13                        |   |\n",
    "| 65                    | 7,82                        |   |\n",
    "| 63                    | 8,33                        |   |\n",
    "| 61                    | 8,85                        |   |\n",
    "| 60                    | 9,26                        |   |\n",
    "| 58                    | 10,20                       |   |\n",
    "| 56                    | 10,62                       |   |\n",
    "| 55                    | 10,92                       |   |\n",
    "| 54                    | 11,52                       |   |\n",
    "| 53                    | 12,10                       |   |\n",
    "| 51                    | 13,08                       |   |\n",
    "| 50                    | 13,69                       |   |\n",
    "| 47                    | 15,36                       |   |"
   ]
  },
  {
   "cell_type": "markdown",
   "id": "ae9eacc5-3910-43e5-8493-3191a2682ca7",
   "metadata": {},
   "source": [
    "347,1g\n",
    "\n",
    "431,0\n",
    "\n",
    "001,896 bis 001,886\n",
    "\n",
    "001,400\n",
    "\n",
    "442,1"
   ]
  }
 ],
 "metadata": {
  "kernelspec": {
   "display_name": "Python 3 (ipykernel)",
   "language": "python",
   "name": "python3"
  },
  "language_info": {
   "codemirror_mode": {
    "name": "ipython",
    "version": 3
   },
   "file_extension": ".py",
   "mimetype": "text/x-python",
   "name": "python",
   "nbconvert_exporter": "python",
   "pygments_lexer": "ipython3",
   "version": "3.8.10"
  }
 },
 "nbformat": 4,
 "nbformat_minor": 5
}
