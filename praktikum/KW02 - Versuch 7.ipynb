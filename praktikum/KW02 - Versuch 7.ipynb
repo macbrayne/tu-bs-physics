{
 "cells": [
  {
   "cell_type": "markdown",
   "id": "e94d7c56-37fa-417f-b64d-78bec8097981",
   "metadata": {},
   "source": [
    "# KW 02 - Versuch 07\n",
    "\n",
    "Betreuender HiWi: Raphael \n",
    "\n",
    "## Aufgabe 1:\n",
    "Anfangswerte:\n",
    "\n",
    "| Alkoholthermometer °C | Widerstandsthermometer kOhm | Thermoelement mV    |\n",
    "|-----------------------|-----------------------------|---------------------|\n",
    "| 20°C                  | 53,1 kOhm                   | ~~796 mV~~ 0,796 mV |\n",
    "\n",
    "\n"
   ]
  },
  {
   "cell_type": "markdown",
   "id": "a34c0a2a-b0e5-4100-bef5-3be3f9ac01e2",
   "metadata": {},
   "source": [
    "\n",
    "| Alkoholthermometer °C | Widerstandsthermometer kOhm | Thermoelement mV |\n",
    "|-----------------------|-----------------------------|------------------|\n",
    "| 90                    | 3,075                       | 3,852            |\n",
    "| 86                    | 3,600                       | 3,598            |\n",
    "| 85                    |                             | 3,562            |\n",
    "| 83                    | 4,03                        | 3,453            |\n",
    "| 80                    | 4,45                        | 3,35             |\n",
    "| 78                    | 4,85                        | 3,25             |\n",
    "| 77                    |                             | 3,102            |\n",
    "| 76                    | 5,14                        | 3,158            |\n",
    "| 75                    | 5,3                         | 3,124            |\n",
    "| 73                    | 5,74                        | 3,04             |\n",
    "| 72                    | 5,99                        | 2,986            |\n",
    "| 70                    | 6,36                        | 2,896            |\n",
    "| 69                    | 6,75                        | 2,847            |\n",
    "| 67                    | 7,13                        | 2,778            |\n",
    "| 65                    | 7,82                        | 2,687            |\n",
    "| 63                    | 8,33                        | 2,582            |\n",
    "| 61                    | 8,85                        | 2,516            |\n",
    "| 60                    | 9,26                        | 2,474            |\n",
    "| 58                    | 10,20                       | 2,372            |\n",
    "| 56                    | 10,62                       | 2,337            |\n",
    "| 55                    | 10,92                       | 2,31             |\n",
    "| 54                    | 11,52                       | 2,251            |\n",
    "| 53                    | 12,10                       | 2202             |\n",
    "| 51                    | 13,08                       | 2,11             |\n",
    "| 50                    | 13,69                       | 2,057            |\n",
    "| 47                    | 15,36                       | 1,945            |"
   ]
  },
  {
   "cell_type": "markdown",
   "id": "ae9eacc5-3910-43e5-8493-3191a2682ca7",
   "metadata": {},
   "source": [
    "## Aufgabe 2:\n",
    "\n",
    "Wasser mit Thermoelement: 0,701 mV\n",
    "\n",
    "Alles andere: → Videos"
   ]
  },
  {
   "cell_type": "markdown",
   "id": "9aebf51b-42ef-4bd2-901e-c00d58ded623",
   "metadata": {},
   "source": [
    "## Aufgabe 4:\n",
    "\n",
    "Messwerte: → Videos"
   ]
  },
  {
   "cell_type": "markdown",
   "id": "09520fe3-3a19-4a5c-9aa9-fe6dc2ed427b",
   "metadata": {},
   "source": [
    "## Aufgabe 5:\n",
    "\n",
    "Abfangsgewicht (leer): 347,1g\n",
    "\n",
    "Anfangsgewicht (warm): 431,0\n",
    "\n",
    "Temperatur (warm): 1,896 mV bis 1,886 mV\n",
    "\n",
    "Temperatur (geschmolzen); 001,400 mV\n",
    "\n",
    "Endgewicht (geschmolzen): 442,1g +- 0,05g"
   ]
  },
  {
   "cell_type": "code",
   "execution_count": 62,
   "id": "c9a7c6f0-55bc-49af-8ac9-fa91339de005",
   "metadata": {},
   "outputs": [
    {
     "name": "stdout",
     "output_type": "stream",
     "text": [
      "0.0005866286328294144\n",
      "Temperatures 1: [15.87891013 15.99657491 16.1613056  16.30250333 16.44370106 16.67903062\n",
      " 16.91436017 17.17322269 17.31442042 17.36148633] \n",
      " Temperatures 2: [16.09070673 16.18483855 16.46723402 16.53783289 16.53783289 16.56136584\n",
      " 16.60843175 16.65549766 16.67903062 16.67903062 16.70256357 16.70256357] \n",
      " Temperatures 3: [16.34956924 16.86729426 17.05555791 17.14968973 17.24382155 17.36148633\n",
      " 17.38501929 17.4320852  17.4320852  17.50268406] \n",
      " Temperatures 4: [16.49076697 16.63196471 16.84376131 16.91436017 16.96142609 16.96142609\n",
      " 16.96142609 16.93789313 16.93789313 16.93789313 16.98495904 16.98495904\n",
      " 16.96142609] \n",
      " Temperatures 5: [16.7966954  17.33795337 17.45561815 17.50268406 17.59681589 17.6438818\n",
      " 17.59681589 17.52621702 17.66741475 17.6438818  17.62034884] \n",
      "\n"
     ]
    }
   ],
   "source": [
    "import numpy as np\n",
    "\n",
    "def temperature(x):\n",
    "    return 0.064764 + x / (0.0424936)\n",
    "\n",
    "delta_temperature = 1 / 0.0424936 * 6.45302E-6 + 4.3477E-4\n",
    "\n",
    "print(delta_temperature)\n",
    "\n",
    "def calculate_temperature(messung):\n",
    "    \"\"\"Calculated the temperature\"\"\"\n",
    "    array = messung.split(\";\")\n",
    "    return np.array([temperature(float(xi)) for xi in array])\n",
    "    \n",
    "\n",
    "messung1 = \"0.672;0.677;0.684;0.69;0.696;0.706;0.716;0.727;0.733;0.735\"\n",
    "messung2 = \"0.681;0.685;0.697;0.7;0.7;0.701;0.703;0.705;0.706;0.706;0.707;0.707\"\n",
    "messung3 = \"0.692;0.714;0.722;0.726;0.73;0.735;0.736;0.738;0.738;0.741\"\n",
    "messung4 = \"0.698;0.704;0.713;0.716;0.718;0.718;0.718;0.717;0.717;0.717;0.719;0.719;0.718\"\n",
    "messung5 = \"0.711;0.734;0.739;0.741;0.745;0.747;0.745;0.742;0.748;0.747;0.746\"\n",
    "\n",
    "temperatures1 = calculate_temperature(messung1)\n",
    "temperatures2 = calculate_temperature(messung2)\n",
    "temperatures3 = calculate_temperature(messung3)\n",
    "temperatures4 = calculate_temperature(messung4)\n",
    "temperatures5 = calculate_temperature(messung5)\n",
    "\n",
    "print(\"Temperatures 1:\", temperatures1, \"\\n\", \"Temperatures 2:\", temperatures2, \"\\n\", \\\n",
    "      \"Temperatures 3:\", temperatures3, \"\\n\", \"Temperatures 4:\", temperatures4, \"\\n\", \"Temperatures 5:\", temperatures5, \"\\n\")"
   ]
  },
  {
   "cell_type": "code",
   "execution_count": 56,
   "id": "222360b3-aaee-4298-aced-f408ec1a9065",
   "metadata": {},
   "outputs": [
    {
     "name": "stdout",
     "output_type": "stream",
     "text": [
      "1.90818961334992\n",
      "0.7875068245571079\n",
      "1.4841474770499368\n",
      "0.6057744804285455\n",
      "1.060105340749958\n"
     ]
    }
   ],
   "source": [
    "c_w = 4.183 # J g^{-1} K^{-1}\n",
    "m_w = 20 # g\n",
    "thermo_start = 95 # °C\n",
    "thermo_end = 30 # °C\n",
    "thermo_delta = thermo_start - thermo_end\n",
    "\n",
    "def calculate_c(messung):\n",
    "    w_start = messung[0]\n",
    "    w_end = messung[-1]\n",
    "    return (c_w * m_w * (w_end - w_start)) / thermo_delta\n",
    "\n",
    "print(calculate_c(temperatures1))\n",
    "print(calculate_c(temperatures2))\n",
    "print(calculate_c(temperatures3))\n",
    "print(calculate_c(temperatures4))\n",
    "print(calculate_c(temperatures5))"
   ]
  },
  {
   "cell_type": "code",
   "execution_count": 59,
   "id": "991c318f-ec83-4fd6-b547-57b92b60f3ac",
   "metadata": {},
   "outputs": [
    {
     "name": "stdout",
     "output_type": "stream",
     "text": [
      "0.998238160583482\n",
      "0.4119718784166832\n",
      "0.7764076032692434\n",
      "0.3169018121703816\n",
      "0.5545771112218679\n"
     ]
    }
   ],
   "source": [
    "d_thermo_alkohol = 10 # °C\n",
    "d_m_w = 10 # g\n",
    "\n",
    "def calculate_delta_c(messung):\n",
    "    c = calculate_c(messung)\n",
    "    w_start = messung[0]\n",
    "    w_end = messung[-1]\n",
    "    w_delta = w_end - w_start\n",
    "    delta_tmp = (c_w * w_delta / thermo_delta * d_m_w)**2\n",
    "    delta_tmp += (m_w * c_w / thermo_delta * delta_temperature)**2\n",
    "    delta_tmp += (-m_w * c_w * w_delta / (thermo_delta**2) * d_thermo_alkohol)**2\n",
    "    return np.sqrt(delta_tmp)\n",
    "\n",
    "\n",
    "print(calculate_delta_c(temperatures1))\n",
    "print(calculate_delta_c(temperatures2))\n",
    "print(calculate_delta_c(temperatures3))\n",
    "print(calculate_delta_c(temperatures4))\n",
    "print(calculate_delta_c(temperatures5))"
   ]
  },
  {
   "cell_type": "code",
   "execution_count": null,
   "id": "55b06498-3cf3-44ee-9271-0aee479bdca2",
   "metadata": {},
   "outputs": [],
   "source": []
  }
 ],
 "metadata": {
  "kernelspec": {
   "display_name": "Python 3 (ipykernel)",
   "language": "python",
   "name": "python3"
  },
  "language_info": {
   "codemirror_mode": {
    "name": "ipython",
    "version": 3
   },
   "file_extension": ".py",
   "mimetype": "text/x-python",
   "name": "python",
   "nbconvert_exporter": "python",
   "pygments_lexer": "ipython3",
   "version": "3.10.2"
  }
 },
 "nbformat": 4,
 "nbformat_minor": 5
}
