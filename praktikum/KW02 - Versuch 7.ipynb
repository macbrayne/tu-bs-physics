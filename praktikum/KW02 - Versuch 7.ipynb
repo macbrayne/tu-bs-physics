{
 "cells": [
  {
   "cell_type": "markdown",
   "id": "e94d7c56-37fa-417f-b64d-78bec8097981",
   "metadata": {},
   "source": [
    "# KW 02 - Versuch 07\n",
    "\n",
    "Betreuender HiWi: Raphael \n",
    "\n",
    "## Aufgabe 1:\n",
    "Anfangswerte:\n",
    "\n",
    "| Alkoholthermometer °C | Widerstandsthermometer kOhm | Thermoelement mV    |\n",
    "|-----------------------|-----------------------------|---------------------|\n",
    "| 20°C                  | 53,1 kOhm                   | ~~796 mV~~ 0,796 mV |\n",
    "\n",
    "\n"
   ]
  },
  {
   "cell_type": "markdown",
   "id": "a34c0a2a-b0e5-4100-bef5-3be3f9ac01e2",
   "metadata": {},
   "source": [
    "\n",
    "| Alkoholthermometer °C | Widerstandsthermometer kOhm | Thermoelement mV |\n",
    "|-----------------------|-----------------------------|------------------|\n",
    "| 90                    | 3,075                       | 3,852            |\n",
    "| 86                    | 3,600                       | 3,598            |\n",
    "| 85                    |                             | 3,562            |\n",
    "| 83                    | 4,03                        | 3,453            |\n",
    "| 80                    | 4,45                        | 3,35             |\n",
    "| 78                    | 4,85                        | 3,25             |\n",
    "| 77                    |                             | 3,102            |\n",
    "| 76                    | 5,14                        | 3,158            |\n",
    "| 75                    | 5,3                         | 3,124            |\n",
    "| 73                    | 5,74                        | 3,04             |\n",
    "| 72                    | 5,99                        | 2,986            |\n",
    "| 70                    | 6,36                        | 2,896            |\n",
    "| 69                    | 6,75                        | 2,847            |\n",
    "| 67                    | 7,13                        | 2,778            |\n",
    "| 65                    | 7,82                        | 2,687            |\n",
    "| 63                    | 8,33                        | 2,582            |\n",
    "| 61                    | 8,85                        | 2,516            |\n",
    "| 60                    | 9,26                        | 2,474            |\n",
    "| 58                    | 10,20                       | 2,372            |\n",
    "| 56                    | 10,62                       | 2,337            |\n",
    "| 55                    | 10,92                       | 2,31             |\n",
    "| 54                    | 11,52                       | 2,251            |\n",
    "| 53                    | 12,10                       | 2202             |\n",
    "| 51                    | 13,08                       | 2,11             |\n",
    "| 50                    | 13,69                       | 2,057            |\n",
    "| 47                    | 15,36                       | 1,945            |"
   ]
  },
  {
   "cell_type": "markdown",
   "id": "ae9eacc5-3910-43e5-8493-3191a2682ca7",
   "metadata": {},
   "source": [
    "## Aufgabe 2:\n",
    "\n",
    "Wasser mit Thermoelement: 0,701 mV\n",
    "\n",
    "Alles andere: → Videos"
   ]
  },
  {
   "cell_type": "markdown",
   "id": "9aebf51b-42ef-4bd2-901e-c00d58ded623",
   "metadata": {},
   "source": [
    "## Aufgabe 4:\n",
    "\n",
    "Messwerte: → Videos"
   ]
  },
  {
   "cell_type": "markdown",
   "id": "09520fe3-3a19-4a5c-9aa9-fe6dc2ed427b",
   "metadata": {},
   "source": [
    "## Aufgabe 5:\n",
    "\n",
    "Abfangsgewicht (leer): 347,1g\n",
    "\n",
    "Anfangsgewicht (warm): 431,0\n",
    "\n",
    "Temperatur (warm): 1,896 mV bis 1,886 mV\n",
    "\n",
    "Temperatur (geschmolzen); 001,400 mV\n",
    "\n",
    "Endgewicht (geschmolzen): 442,1g +- 0,05g"
   ]
  },
  {
   "cell_type": "code",
   "execution_count": null,
   "id": "e2756d7a-0dee-4a54-abd8-3e42f2207e40",
   "metadata": {},
   "outputs": [],
   "source": []
  }
 ],
 "metadata": {
  "kernelspec": {
   "display_name": "Python 3 (ipykernel)",
   "language": "python",
   "name": "python3"
  },
  "language_info": {
   "codemirror_mode": {
    "name": "ipython",
    "version": 3
   },
   "file_extension": ".py",
   "mimetype": "text/x-python",
   "name": "python",
   "nbconvert_exporter": "python",
   "pygments_lexer": "ipython3",
   "version": "3.8.10"
  }
 },
 "nbformat": 4,
 "nbformat_minor": 5
}
