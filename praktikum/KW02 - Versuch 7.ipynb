{
 "cells": [
  {
   "cell_type": "markdown",
   "id": "e94d7c56-37fa-417f-b64d-78bec8097981",
   "metadata": {},
   "source": [
    "# KW 02 - Versuch 07\n",
    "\n",
    "Betreuender HiWi: Raphael \n",
    "\n",
    "## Aufgabe 1:\n",
    "Anfangswerte:\n",
    "\n",
    "| Alkoholthermometer °C | Widerstandsthermometer kOhm | Thermoelement mV    |\n",
    "|-----------------------|-----------------------------|---------------------|\n",
    "| 20°C                  | 53,1 kOhm                   | ~~796 mV~~ 0,796 mV |\n",
    "\n",
    "\n"
   ]
  },
  {
   "cell_type": "markdown",
   "id": "a34c0a2a-b0e5-4100-bef5-3be3f9ac01e2",
   "metadata": {},
   "source": [
    "\n",
    "| Alkoholthermometer °C | Widerstandsthermometer kOhm | Thermoelement mV |\n",
    "|-----------------------|-----------------------------|------------------|\n",
    "| 90                    | 3,075                       | 3,852            |\n",
    "| 86                    | 3,600                       | 3,598            |\n",
    "| 85                    |                             | 3,562            |\n",
    "| 83                    | 4,03                        | 3,453            |\n",
    "| 80                    | 4,45                        | 3,35             |\n",
    "| 78                    | 4,85                        | 3,25             |\n",
    "| 77                    |                             | 3,102            |\n",
    "| 76                    | 5,14                        | 3,158            |\n",
    "| 75                    | 5,3                         | 3,124            |\n",
    "| 73                    | 5,74                        | 3,04             |\n",
    "| 72                    | 5,99                        | 2,986            |\n",
    "| 70                    | 6,36                        | 2,896            |\n",
    "| 69                    | 6,75                        | 2,847            |\n",
    "| 67                    | 7,13                        | 2,778            |\n",
    "| 65                    | 7,82                        | 2,687            |\n",
    "| 63                    | 8,33                        | 2,582            |\n",
    "| 61                    | 8,85                        | 2,516            |\n",
    "| 60                    | 9,26                        | 2,474            |\n",
    "| 58                    | 10,20                       | 2,372            |\n",
    "| 56                    | 10,62                       | 2,337            |\n",
    "| 55                    | 10,92                       | 2,31             |\n",
    "| 54                    | 11,52                       | 2,251            |\n",
    "| 53                    | 12,10                       | 2202             |\n",
    "| 51                    | 13,08                       | 2,11             |\n",
    "| 50                    | 13,69                       | 2,057            |\n",
    "| 47                    | 15,36                       | 1,945            |"
   ]
  },
  {
   "cell_type": "markdown",
   "id": "ae9eacc5-3910-43e5-8493-3191a2682ca7",
   "metadata": {},
   "source": [
    "## Aufgabe 2:\n",
    "\n",
    "Wasser mit Thermoelement: 0,701 mV\n",
    "\n",
    "Alles andere: → Videos"
   ]
  },
  {
   "cell_type": "markdown",
   "id": "9aebf51b-42ef-4bd2-901e-c00d58ded623",
   "metadata": {},
   "source": [
    "## Aufgabe 4:\n",
    "\n",
    "Messwerte: → Videos"
   ]
  },
  {
   "cell_type": "markdown",
   "id": "09520fe3-3a19-4a5c-9aa9-fe6dc2ed427b",
   "metadata": {},
   "source": [
    "## Aufgabe 5:\n",
    "\n",
    "Abfangsgewicht (leer): 347,1g\n",
    "\n",
    "Anfangsgewicht (warm): 431,0\n",
    "\n",
    "Temperatur (warm): 1,896 mV bis 1,886 mV\n",
    "\n",
    "Temperatur (geschmolzen); 001,400 mV\n",
    "\n",
    "Endgewicht (geschmolzen): 442,1g +- 0,05g"
   ]
  },
  {
   "cell_type": "code",
   "execution_count": 13,
   "id": "c9a7c6f0-55bc-49af-8ac9-fa91339de005",
   "metadata": {},
   "outputs": [
    {
     "name": "stdout",
     "output_type": "stream",
     "text": [
      "[15.87891013 15.99657491 16.1613056  16.30250333 16.44370106 16.67903062\n",
      " 16.91436017 17.17322269 17.31442042 17.36148633]\n",
      "[16.09070673 16.18483855 16.46723402 16.53783289 16.53783289 16.56136584\n",
      " 16.60843175 16.65549766 16.67903062 16.67903062 16.70256357 16.70256357]\n",
      "[16.34956924 16.86729426 17.05555791 17.14968973 17.24382155 17.36148633\n",
      " 17.38501929 17.4320852  17.4320852  17.50268406]\n",
      "[16.49076697 16.63196471 16.84376131 16.91436017 16.96142609 16.96142609\n",
      " 16.96142609 16.93789313 16.93789313 16.93789313 16.98495904 16.98495904\n",
      " 16.96142609]\n",
      "[16.7966954  17.33795337 17.45561815 17.50268406 17.59681589 17.6438818\n",
      " 17.59681589 17.52621702 17.66741475 17.6438818  17.62034884]\n"
     ]
    }
   ],
   "source": [
    "import numpy as np\n",
    "\n",
    "def temperature(x):\n",
    "    return 0.064764 + x / (0.0424936)\n",
    "\n",
    "def calculate_temperature(messung):\n",
    "    \"\"\"Calculated the temperature\"\"\"\n",
    "    array = messung.split(\";\")\n",
    "    return np.array([temperature(float(xi)) for xi in array])\n",
    "    \n",
    "\n",
    "messung1 = \"0.672;0.677;0.684;0.69;0.696;0.706;0.716;0.727;0.733;0.735\"\n",
    "messung2 = \"0.681;0.685;0.697;0.7;0.7;0.701;0.703;0.705;0.706;0.706;0.707;0.707\"\n",
    "messung3 = \"0.692;0.714;0.722;0.726;0.73;0.735;0.736;0.738;0.738;0.741\"\n",
    "messung4 = \"0.698;0.704;0.713;0.716;0.718;0.718;0.718;0.717;0.717;0.717;0.719;0.719;0.718\"\n",
    "messung5 = \"0.711;0.734;0.739;0.741;0.745;0.747;0.745;0.742;0.748;0.747;0.746\"\n",
    "\n",
    "print(calculate_temperature(messung1))\n",
    "print(calculate_temperature(messung2))\n",
    "print(calculate_temperature(messung3))\n",
    "print(calculate_temperature(messung4))\n",
    "print(calculate_temperature(messung5))"
   ]
  },
  {
   "cell_type": "code",
   "execution_count": null,
   "id": "222360b3-aaee-4298-aced-f408ec1a9065",
   "metadata": {},
   "outputs": [],
   "source": []
  }
 ],
 "metadata": {
  "kernelspec": {
   "display_name": "Python 3 (ipykernel)",
   "language": "python",
   "name": "python3"
  },
  "language_info": {
   "codemirror_mode": {
    "name": "ipython",
    "version": 3
   },
   "file_extension": ".py",
   "mimetype": "text/x-python",
   "name": "python",
   "nbconvert_exporter": "python",
   "pygments_lexer": "ipython3",
   "version": "3.10.2"
  }
 },
 "nbformat": 4,
 "nbformat_minor": 5
}
