{
 "cells": [
  {
   "cell_type": "code",
   "execution_count": 11,
   "id": "929f4a4c-a4ef-4029-96b1-59bb0a38876b",
   "metadata": {},
   "outputs": [],
   "source": [
    "anfangslaenge_stahl = 117.8 * 0.01 # Unrechnung in m"
   ]
  },
  {
   "cell_type": "markdown",
   "id": "57de73bc-a326-4202-8f9a-bef06a63a96c",
   "metadata": {},
   "source": [
    "## Versuchsteil 1:\n",
    "\n",
    "### Stahldraht:\n",
    "\n",
    "Startwert: 2\n",
    "\n",
    "Gewicht (g) | Länge (mm)\n",
    "--- | ---\n",
    "+111 | 12.5\n",
    "+110 | 29\n",
    "+109 | 44\n",
    "+106 | 59\n",
    "+99 | 72\n",
    "+98 | 83\n",
    "+93 | 95\n",
    "+91 | 106,5\n",
    "+90 | 118\n",
    "+89 | 127\n",
    "+86 | 139\n",
    "+85 | 149\n",
    "+85 | 159\n",
    "+80 | 171\n",
    "+80 | 180\n",
    "+78 | 192\n",
    "+76 | 205\n",
    "+73 | 216\n",
    "+71 | 222\n",
    "+69 | 231\n",
    "+64 | 239\n",
    "+46 | 245"
   ]
  },
  {
   "cell_type": "markdown",
   "id": "67aa11f7-3856-4744-af43-23f809556d90",
   "metadata": {},
   "source": [
    "Gewicht (g) | Länge (mm)\n",
    "--- | ---\n",
    "0 | 245\n",
    "-46 | 240\n",
    "-64 | 233.5\n",
    "-69 | 225\n",
    "-71 | 216\n",
    "-73 | 206\n",
    "-76 | 198\n",
    "-78 | 188\n",
    "-80 | 177\n",
    "-80 | 168\n",
    "-85 | 157\n",
    "-85 | 147\n",
    "-86 | 132.5\n",
    "-89 | 122\n",
    "-90 | 110\n",
    "-91 | 101\n",
    "-93 | 87\n",
    "-98 | 76\n",
    "-99 | 62\n",
    "-106 | 48.5\n",
    "-109 | 34\n",
    "-110 | 17\n",
    "-111 | 4.5"
   ]
  },
  {
   "cell_type": "markdown",
   "id": "98d9810b-878f-4853-b03c-052b2d868000",
   "metadata": {},
   "source": [
    "Fehler von 0,002mm\n",
    "\n",
    "| Stahldraht (mm) | Stahldraht (mm) mit Gewicht 1kg |\n",
    "| --------------- | ------------------------------- |\n",
    "| 0.047 | 0.044 |\n",
    "| 0.0475 | 0.043 |\n",
    "| 0.047 + x | 0.431 |\n",
    "| 0.047 | 0.0431 |\n",
    "| 0.0465 | 0.0435 |\n",
    "| 0.0472 + x | 0.044 |\n",
    "| 0.0475 | 0.0439 |\n",
    "| 0.047 | 0.045 |\n",
    "| 0.0469 | 0.045 |\n",
    "| 0.0469 | 0.045 |"
   ]
  },
  {
   "cell_type": "code",
   "execution_count": 12,
   "id": "a1ccacdd-e9c3-4b11-8639-33ba451eb55e",
   "metadata": {},
   "outputs": [],
   "source": [
    "anfangslaenge_messing = 116.5 * 0.01 # Umrechnung in m"
   ]
  },
  {
   "cell_type": "markdown",
   "id": "7373f624-bd5a-4b68-a162-ba8a3317e29d",
   "metadata": {},
   "source": [
    "### Messingdraht:\n",
    "\n",
    "Anfangswert: 2\n",
    "\n",
    "Gewicht (g) | Länge (mm)\n",
    "--- | ---\n",
    "+111 | 39\n",
    "+110 | 73\n",
    "+109 | 109\n",
    "+106 | 154\n",
    "+99 | 186\n",
    "+98 | 252\n",
    "+93 | 286\n",
    "+91 | 286\n",
    "+90 | \n",
    "+89 | \n",
    "+86 | \n",
    "+85 | \n",
    "+85 | \n",
    "+80 | \n",
    "+80 | \n",
    "+78 | \n",
    "+76 | \n",
    "+73 | \n",
    "+71 | \n",
    "+69 | \n",
    "+64 | \n",
    "+46 | "
   ]
  },
  {
   "cell_type": "code",
   "execution_count": 13,
   "id": "5c8de441-b002-45e3-b2d1-e915f7221315",
   "metadata": {},
   "outputs": [
    {
     "name": "stdout",
     "output_type": "stream",
     "text": [
      "1204.4 153.4\n"
     ]
    }
   ],
   "source": [
    "slope_messing = 0.0001 * 6.9498\n",
    "c_messing = 1 / slope_messing\n",
    "c_messing = 0.12044 * 10000\n",
    "delta_c_messing = 0.01534 * 10000 # 0,12044 ± 0,01534\n",
    "print(c_messing, delta_c_messing)\n",
    "# Messing: 6,9498 ± 0,88528\n",
    "# Stahl: 0,12857 ± 7,7371E-4"
   ]
  },
  {
   "cell_type": "code",
   "execution_count": 14,
   "id": "8a1ffd9d-4fbc-4e8f-8672-f4739136c036",
   "metadata": {},
   "outputs": [
    {
     "name": "stdout",
     "output_type": "stream",
     "text": [
      "3883.0 23.400000000000002\n"
     ]
    }
   ],
   "source": [
    "slope_stahl = 0.0001 * 2.57139\n",
    "c_stahl = 1 / slope_stahl\n",
    "c_stahl = 0.3883 * 10000\n",
    "delta_c_stahl = 0.00234 * 10000 \n",
    "print(c_stahl, delta_c_stahl)\n",
    "# Messing: 0,12044 ± 0,01534\n",
    "# Stahl: 0,12857 ± 7,7371E-4"
   ]
  },
  {
   "cell_type": "code",
   "execution_count": 15,
   "id": "6502f7c5-28b0-4e0a-9237-dccd350495a2",
   "metadata": {},
   "outputs": [
    {
     "name": "stdout",
     "output_type": "stream",
     "text": [
      "1.73863787780834e-07 2.217179015270997e-09 1.5177674994393623e-07 +-3.4526103262951827e-09 1.0763727891322004e-07 +-2.907544000897354e-09\n"
     ]
    }
   ],
   "source": [
    "import numpy as np\n",
    "\n",
    "# Fläche berechnen:\n",
    "dicke_stahl_1kg = 0.04705 * 0.01 # Umrechnung in Meter\n",
    "dicke_stahl_2kg = 0.04396 * 0.01 # Umrechnung in Meter\n",
    "dicke_messing_1kg = 0.03702 * 0.01 # Umrechnung in Meter\n",
    "\n",
    "delta_syst = 0.0002 # cm\n",
    "delta_stahl = delta_syst + 0.0001 # cm\n",
    "delta_messing = delta_syst + 0.0003 # cm\n",
    "delta_stahl_2kg = delta_syst + 0.0003 # cm\n",
    "\n",
    "\n",
    "delta_stahl *= 0.01 # m\n",
    "delta_messing *= 0.01 # m\n",
    "delta_stahl_2kg *= 0.01 # m\n",
    "\n",
    "fläche_stahl_1kg = np.pi / 4 * dicke_stahl_1kg ** 2\n",
    "fläche_stahl_2kg = np.pi / 4 * dicke_stahl_2kg ** 2\n",
    "fläche_messing_1kg = np.pi / 4 * dicke_messing_1kg ** 2\n",
    "\n",
    "delta_fläche_stahl = np.pi / 2 * dicke_stahl_1kg * delta_stahl\n",
    "delta_fläche_stahl_2kg = np.pi / 2 * dicke_stahl_2kg * delta_stahl_2kg\n",
    "delta_fläche_messing = np.pi / 2 * dicke_messing_1kg * delta_messing\n",
    "\n",
    "print(fläche_stahl_1kg,  \"+-\" + str(delta_fläche_stahl), fläche_stahl_2kg, \"+-\" + str(delta_fläche_stahl_2kg), fläche_messing_1kg, \"+-\" + str(delta_fläche_messing))"
   ]
  },
  {
   "cell_type": "code",
   "execution_count": 16,
   "id": "4ad0089b-b9ec-4254-9013-e45c737a56a3",
   "metadata": {},
   "outputs": [
    {
     "name": "stdout",
     "output_type": "stream",
     "text": [
      "258.09081645319225 127.88010063964393\n"
     ]
    }
   ],
   "source": [
    "# E = c * g * L / A\n",
    "g = 9.81 # m / s^2\n",
    "elastititaetsmodul_stahl = c_stahl * g * anfangslaenge_stahl / fläche_stahl_1kg\n",
    "elastititaetsmodul_messing = c_messing * g * anfangslaenge_messing / fläche_messing_1kg"
   ]
  },
  {
   "cell_type": "code",
   "execution_count": 31,
   "id": "99a4e904-46f2-47ca-aa0c-681e3d8b7db1",
   "metadata": {},
   "outputs": [
    {
     "name": "stdout",
     "output_type": "stream",
     "text": [
      "22.209597219395828\n",
      "19.942665570786858\n"
     ]
    }
   ],
   "source": [
    "delta_länge = 0.1\n",
    "\n",
    "wip_delta_e_stahl = ((g * anfangslaenge_stahl) / fläche_stahl_1kg * delta_c_stahl) ** 2\n",
    "wip_delta_e_stahl += (c_stahl * g / fläche_stahl_1kg * delta_länge) ** 2\n",
    "wip_delta_e_stahl += (-c_stahl * g * anfangslaenge_stahl / (fläche_stahl_1kg ** 2) * delta_fläche_stahl) ** 2\n",
    "\n",
    "delta_e_stahl = np.sqrt(wip_delta_e_stahl) # Newton pro m^2\n",
    "delta_e_stahl /= 10 ** 9 # Giga Newton pro m^2\n",
    "print(delta_e_stahl)\n",
    "\n",
    "wip_delta_e_messing = ((g * anfangslaenge_messing) / fläche_messing_1kg * delta_c_messing) ** 2\n",
    "wip_delta_e_messing += (c_messing * g / fläche_messing_1kg * delta_länge) ** 2\n",
    "wip_delta_e_messing += (-c_messing * g * anfangslaenge_messing / (fläche_messing_1kg ** 2) * delta_fläche_messing) ** 2\n",
    "\n",
    "delta_e_messing = np.sqrt(wip_delta_e_messing) # Newton pro m^2\n",
    "delta_e_messing /= 10 ** 9 # Giga Newton pro m^2\n",
    "print(delta_e_messing)"
   ]
  },
  {
   "cell_type": "code",
   "execution_count": 32,
   "id": "b4de94af-5e3e-4546-b240-1c42ce7457bc",
   "metadata": {},
   "outputs": [
    {
     "name": "stdout",
     "output_type": "stream",
     "text": [
      "258.09081645319225 +-22.209597219395828 127.88010063964393 +-19.942665570786858\n"
     ]
    }
   ],
   "source": [
    "print(elastititaetsmodul_stahl / 10 ** 9, \"+-\" + str(delta_e_stahl), elastititaetsmodul_messing / 10 ** 9, \"+-\" + str(delta_e_messing)) # Giga Newton pro Quadratmeter"
   ]
  },
  {
   "cell_type": "code",
   "execution_count": null,
   "id": "c0fe2d26-5ffa-49c9-9183-d2ec75a48f53",
   "metadata": {},
   "outputs": [],
   "source": []
  }
 ],
 "metadata": {
  "kernelspec": {
   "display_name": "Python 3 (ipykernel)",
   "language": "python",
   "name": "python3"
  },
  "language_info": {
   "codemirror_mode": {
    "name": "ipython",
    "version": 3
   },
   "file_extension": ".py",
   "mimetype": "text/x-python",
   "name": "python",
   "nbconvert_exporter": "python",
   "pygments_lexer": "ipython3",
   "version": "3.8.10"
  }
 },
 "nbformat": 4,
 "nbformat_minor": 5
}
