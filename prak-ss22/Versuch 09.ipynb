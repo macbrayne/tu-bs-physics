{
 "cells": [
  {
   "cell_type": "code",
   "execution_count": 14,
   "metadata": {},
   "outputs": [],
   "source": [
    "l = 1.49 # m\n",
    "d = 13 / 1000 # m\n",
    "h = 12.7 / 100 # m\n",
    "D = 80 / 1000 # m\n",
    "\n",
    "rho = 7.86 * 1000 # kg / m^3\n",
    "\n",
    "delta_l = 0.01 # m\n",
    "delta_d = 1 / 1000 # m\n",
    "delta_h = 0.1 / 100 # m\n",
    "delta_D = 1 / 1000 # m\n",
    "\n",
    "r = d / 2\n",
    "R = D / 2\n",
    "delta_r = delta_d / 2\n",
    "delta_R = delta_D / 2\n",
    "\n",
    "delta_s = 1 / 100 # m\n",
    "\n",
    "s_unten = 113 / 100 # m\n",
    "s_oben = 88 / 1000 # m\n"
   ]
  },
  {
   "cell_type": "code",
   "execution_count": 15,
   "metadata": {},
   "outputs": [
    {
     "name": "stdout",
     "output_type": "stream",
     "text": [
      "delta_V 1.68930174336992e-5\n",
      "delta_M 0.132779117028875\n"
     ]
    }
   ],
   "source": [
    "from sympy import *\n",
    "from sympy.abc import x\n",
    "_R, _r, _s, _h, _l, _rho, _dV, _dM, _dm = symbols('R r s h l rho V M m')\n",
    "\n",
    "_V = pi * _h * (_R**2 - _r**2)\n",
    "\n",
    "_delta_V = sqrt((diff(_V, _h) * delta_h)**2 + (diff(_V, _R) * delta_R)**2+(diff(_V, _r)*delta_r)**2)\n",
    "\n",
    "delta_V = _delta_V.evalf(subs={_R: R, _r: r, _h: h})\n",
    "print(\"delta_V\", delta_V)\n",
    "\n",
    "_M = _rho * _dV\n",
    "_delta_M = diff(_M, _dV) * delta_V\n",
    "delta_M = _delta_M.evalf(subs={_rho: rho})\n",
    "print(\"delta_M\", delta_M)\n"
   ]
  },
  {
   "cell_type": "code",
   "execution_count": 16,
   "metadata": {},
   "outputs": [
    {
     "name": "stdout",
     "output_type": "stream",
     "text": [
      "Theta_oben 1.19359503125000\n",
      "Theta_unten 7.41245943125000\n",
      "delta_Theta_oben 0.0212892661230095\n",
      "delta_Theta_unten 0.203630550876009\n"
     ]
    }
   ],
   "source": [
    "\n",
    "_Theta = ((_r**2 + _R**2) / 4) * _dM + (1 / 12) * _dM * _h**2 + _dM * _s**2 + (1/3) * _dm * _l**2\n",
    "delta_m = 0.016 # kg\n",
    "M = 4.9 # kg\n",
    "m = 1.55 # kg\n",
    "\n",
    "Theta_oben = _Theta.evalf(subs={_r: r, _R: R, _h: h, _s: s_oben, _l : l, _dM: M, _dm: m})\n",
    "print(\"Theta_oben\", Theta_oben)\n",
    "Theta_unten = _Theta.evalf(subs={_r: r, _R: R, _h: h, _s: s_unten, _l : l, _dM: M, _dm: m})\n",
    "print(\"Theta_unten\", Theta_unten)\n",
    "\n",
    "_delta_Theta = sqrt((diff(_Theta, _r) * delta_r)**2 + (diff(_Theta, _R) * delta_R)**2 + (diff(_Theta, _h) * delta_h)**2 + (diff(_Theta, _s) * delta_s)**2 + (diff(_Theta, _l) * delta_l)**2 + (diff(_Theta, _dM) * delta_M)**2 + (diff(_Theta, _dm) * delta_m)**2)\n",
    "delta_Theta_oben = _delta_Theta.evalf(subs={_r: r, _R: R, _h: h, _s: s_oben, _l : l, _dM: M, _dm: m})\n",
    "print(\"delta_Theta_oben\", delta_Theta_oben)\n",
    "delta_Theta_unten = _delta_Theta.evalf(subs={_r: r, _R: R, _h: h, _s: s_unten, _l : l, _dM: M, _dm: m})\n",
    "print(\"delta_Theta_unten\", delta_Theta_unten)"
   ]
  },
  {
   "cell_type": "code",
   "execution_count": 30,
   "metadata": {},
   "outputs": [
    {
     "name": "stdout",
     "output_type": "stream",
     "text": [
      "\\frac{M h + 2 M s + l m}{2 M + 2 m}\n",
      "rs_oben 0.294124031007752\n",
      "rs_unten 1.08572093023256\n",
      "0.265558234057751 \\sqrt{\\frac{0.00568623532090663 M^{2}}{\\left(2 M + 2 m\\right)^{2}} + \\frac{0.00141801379573732 m^{2}}{\\left(2 M + 2 m\\right)^{2}} + 0.0145204612683501 \\left(\\frac{0.5 l}{2 M + 2 m} - \\frac{M h + 2 M s + l m}{\\left(2 M + 2 m\\right)^{2}}\\right)^{2} + \\left(\\frac{0.5 \\left(h + 2 s\\right)}{2 M + 2 m} - \\frac{M h + 2 M s + l m}{\\left(2 M + 2 m\\right)^{2}}\\right)^{2}}\n",
      "delta_rs_oben 0.00831698147955227\n",
      "delta_rs_unten 0.00805841229463426\n"
     ]
    }
   ],
   "source": [
    "_rs = 1 / (2*(_dM+_dm)) * (_l * _dm + _h * _dM + 2 * _s * _dM)\n",
    "print(latex(_rs))\n",
    "\n",
    "rs_oben = _rs.evalf(subs={_l: l, _h: h, _s: s_oben, _dM: M, _dm: m})\n",
    "rs_unten = _rs.evalf(subs={_l: l, _h: h, _s: s_unten, _dM: M, _dm: m})\n",
    "print(\"rs_oben\", rs_oben)\n",
    "print(\"rs_unten\", rs_unten)\n",
    "\n",
    "_delta_rs = sqrt((diff(_rs, _l) * delta_l)**2 + (diff(_rs, _h) * delta_h)**2+(diff(_rs, _s)*delta_s)**2+(diff(_rs, _dM)*delta_M)**2+(diff(_rs, _dm)*delta_m)**2)\n",
    "delta_rs_oben = _delta_rs.evalf(subs={_l: l, _h: h, _s: s_oben, _dM: M, _dm: m})\n",
    "print(latex(_delta_rs))\n",
    "print(\"delta_rs_oben\", delta_rs_oben)\n",
    "delta_rs_unten = _delta_rs.evalf(subs={_l: l, _h: h, _s: s_unten, _dM: M, _dm: m})\n",
    "print(\"delta_rs_unten\", delta_rs_unten)"
   ]
  }
 ],
 "metadata": {
  "kernelspec": {
   "display_name": "Python 3.8.13 64-bit ('3.8.13')",
   "language": "python",
   "name": "python3"
  },
  "language_info": {
   "codemirror_mode": {
    "name": "ipython",
    "version": 3
   },
   "file_extension": ".py",
   "mimetype": "text/x-python",
   "name": "python",
   "nbconvert_exporter": "python",
   "pygments_lexer": "ipython3",
   "version": "3.8.13"
  },
  "orig_nbformat": 4,
  "vscode": {
   "interpreter": {
    "hash": "110cc1dee26208153f2972f08a2ad52b6a56238dc66d48e87fb757ef2996db56"
   }
  }
 },
 "nbformat": 4,
 "nbformat_minor": 2
}
