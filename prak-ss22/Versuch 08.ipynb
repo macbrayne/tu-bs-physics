{
 "cells": [
  {
   "cell_type": "markdown",
   "id": "685a6743-e5c1-4b1b-8bfc-f532aed4c461",
   "metadata": {},
   "source": [
    "# 08 Adiabatenkoeffizient\n",
    "\n",
    "## 1. \n",
    "Nullpunkt 10 Torr - keine Änderung\n",
    "\n",
    "2. Durchführung des Experimentes mit Luft\n",
    "\n",
    "Null: 0 mm\n",
    "\n",
    "Level | Unten | Ende  | Zeit    | Kästchen\n",
    "----- | ----- | ----- | ------- | --------\n",
    "220mm | 100mm | 158mm | 100ms/k | 2.5\n",
    "220mm |  85mm | 111mm | 50ms/k  | 5.2\n",
    "~~220mm~~ |  ~~50mm~~ | ~~130mm~~ | ~~100ms/k~~ | ~~4.2~~ Ventil nicht zu\n",
    "220mm |  75mm | 133mm | 100ms/k | 4.2\n",
    "220mm |  30mm | 106mm | 100ms/k | 6.4\n",
    "220mm |  20mm |  81mm | 100ms/k | 8.8\n",
    "220mm |  10mm |  58mm | 200ms/k | 6.05\n",
    "220mm |  -5mm |  50mm | 200ms/k | 7.3\n",
    "220mm | -15mm |  50mm | 200ms/k | 7.5 (Video)\n",
    "\n",
    "3. "
   ]
  },
  {
   "cell_type": "markdown",
   "id": "014678bd-75e1-4945-8549-43cedb5a1c44",
   "metadata": {},
   "source": [
    "## CO2\n",
    "\n",
    "1% Messungenauigkeit\n",
    "\n",
    "Level | Unten | Ende  | Zeit    | Kästchen\n",
    "----- | ----- | ----- | ------- | --------\n",
    "900   | 870   | 880   | 50ms/k  | 5.1\n",
    "900   | 867   | 873   | 50ms/k  | 8.6\n",
    "900   | 850   | 861   | 100ms/k | 6.6\n",
    "900   | 842   | 853   | 100ms/k | 9.1\n",
    "900   | 828   | 840   | 200ms/k | 5.5\n",
    "900   | 820   | 836   | 200ms/k | 6.6\n",
    "900   | 815   | 830   | 200ms/k | 7.5\n"
   ]
  },
  {
   "cell_type": "markdown",
   "id": "d2aabc74-5aa7-49b3-98a5-1f44fe8ade0a",
   "metadata": {},
   "source": [
    "## Argon\n",
    "\n",
    "1% Messungenauigkeit\n",
    "\n",
    "| Torr  | Torr  | Torr | s       | :)       |\n",
    "|-------|-------|------|---------|----------|\n",
    "| Level | Unten | Ende | Zeit    | Kästchen |\n",
    "| 900   | 875   | 880  | 50ms/k  | 5.2      |\n",
    "| 900   | 860   | 870  | 50ms/k  | 8.6      |\n",
    "| 900   | 843   | 860  | 100ms/k | 7.0      |\n",
    "| 900   | 830   | 853  | 100ms/k | 8.8      |\n",
    "| 900   | 800   | 830  | 200ms/k | 7.5      |\n",
    "| 900   | 810   | 840  | 200ms/k | 6.5      |\n",
    "| 900   | 796   | 830  | 200ms/k | 7.6      |"
   ]
  },
  {
   "cell_type": "markdown",
   "id": "253eda1c-52a4-4862-bc98-22c926036b5e",
   "metadata": {
    "pycharm": {
     "name": "#%% md\n"
    }
   },
   "source": [
    "# Teil 2\n",
    "\n",
    "Ton: 4000Hz, gemessen: 4.4 kHz\n",
    "\n",
    "## Luft\n",
    "\n",
    "650 Hz +- 40 Hz; Wellenberg - Wellental = | 40 - 62 | = 22 cm; * 2\n",
    "\n",
    "1.1 kHz +- 40 Hz; Wellenberg - Wellenberg = | 32 - 53 | = 21 cm;\n",
    "\n",
    "2.1 kHz +- 40 Hz; Wellenberg - Wellenberg = | 60 - 51 | = 9 cm;\n",
    "\n",
    "## CO2\n",
    "\n",
    "900 Hz +- 40Hz; Wellental - Wellental = | 83 - 63 | = 20cm\n",
    "\n",
    "1.57 kHz +- 200 Hz; Wellental - Wellental = | 63 - 46 | = 17 cm\n",
    "\n",
    "550 Hz +- 40 Hz; Wellental - Wellental = | 62 - 22 | =  30cm\n",
    "\n",
    "\n",
    "## Argon\n",
    "\n",
    "630 Hz 61 - 33cm\n",
    "\n",
    "1.24 kHz; 70 - 52cm\n",
    "\n",
    "1.4 kHz; 48.5 - 35cm"
   ]
  },
  {
   "cell_type": "code",
   "execution_count": 59,
   "id": "7695d8ec",
   "metadata": {
    "collapsed": false,
    "pycharm": {
     "name": "#%%\n"
    }
   },
   "outputs": [
    {
     "name": "stdout",
     "output_type": "stream",
     "text": [
      "\n",
      "Density 1.2 :\n",
      "\n",
      "speed of sound : [286.0, 231.0, 189.0]  +-  [88.24, 43.42, 27.66]\n",
      "Mean speed of sound: 235.33  +-  50.98\n",
      "adiabatic index κ: [0.98, 0.64, 0.43]  +-  [0.61, 0.24, 0.13]\n",
      "Mean adiabatic index κ: 0.68  +-  0.39\n",
      "\n",
      "Density 1.98 :\n",
      "\n",
      "speed of sound : [165.0, 180.0, 266.9]  +-  [60.25, 41.0, 37.45]\n",
      "Mean speed of sound: 203.97  +-  45.79\n",
      "adiabatic index κ: [0.54, 0.64, 1.41]  +-  [0.39, 0.29, 0.4]\n",
      "Mean adiabatic index κ: 0.86  +-  0.41\n",
      "\n",
      "Density 1.77 :\n",
      "\n",
      "speed of sound : [176.4, 223.2, 189.0]  +-  [56.35, 38.08, 30.41]\n",
      "Mean speed of sound: 196.2  +-  41.14\n",
      "adiabatic index κ: [0.55, 0.88, 0.63]  +-  [0.35, 0.3, 0.2]\n",
      "Mean adiabatic index κ: 0.69  +-  0.32\n"
     ]
    }
   ],
   "source": [
    "import statistics as stat\n",
    "import pandas as pd\n",
    "import numpy as np\n",
    "# delta_density = 0\n",
    "delta_wave_length = 0.01 # m\n",
    "delta_frequency = 200 # Hz\n",
    "delta_pressure = 2000 # P\n",
    "\n",
    "\n",
    "def calculate_kappa(density, wave_length, frequency):\n",
    "    return (wave_length**2 * frequency**2 * density) / pressure\n",
    "\n",
    "def calculate_delta(density, wave_length, frequency):\n",
    "    # delta_density = 0\n",
    "    tmp_wave_length = ((2 * wave_length * frequency**2 * density) / pressure) * delta_wave_length\n",
    "    tmp_frequency = ((wave_length**2 * 2 * frequency * density) / pressure) * delta_frequency\n",
    "    tmp_pressure = (-(wave_length**2 * frequency**2 * density) / pressure**2) * delta_pressure\n",
    "\n",
    "    return np.sqrt(tmp_wave_length**2 + tmp_frequency**2 + tmp_pressure**2)\n",
    "\n",
    "def calculate_sound_delta(wave_length, frequency):\n",
    "    tmp_wave_length = frequency * delta_wave_length\n",
    "    tmp_frequency = wave_length * delta_frequency\n",
    "    return np.sqrt(tmp_wave_length**2 + tmp_frequency**2)\n",
    "pressure = 100_000 # P = N m^-2\n",
    "\n",
    "data = pd.read_csv('Messungen/Versuch8KundtRohr.csv', sep=\";\")\n",
    "for index, row in data.iterrows():\n",
    "    _density = row.get(\"Dichte\") # kg / m^3\n",
    "    _densities = [_density, _density, _density]\n",
    "    _wave_lengths = [row.get(\"Abstand1\") / 100, row.get(\"Abstand2\") / 100, row.get(\"Abstand3\") / 100] # m\n",
    "    _frequencies = [row.get(\"Frequenz1\"), row.get(\"Frequenz2\"), row.get(\"Frequenz3\")] # Hz = s^-1\n",
    "\n",
    "    print()\n",
    "    print(\"Density\", _density, \":\")\n",
    "\n",
    "    # Calculate the speed of sound\n",
    "    sound = list(map(lambda _wave_length, _frequency: _wave_length * _frequency, _wave_lengths, _frequencies))\n",
    "    sound_error = list(map(calculate_sound_delta, _wave_lengths, _frequencies))\n",
    "\n",
    "    # Calculate Kappa and the error\n",
    "    result = list(map(calculate_kappa, _densities, _wave_lengths, _frequencies))\n",
    "    error = list(map(calculate_delta, _densities, _wave_lengths, _frequencies))\n",
    "\n",
    "    # Round\n",
    "    result = list(map(lambda _result: round(_result, 2), result))\n",
    "    error = list(map(lambda _error: round(_error, 2), error))\n",
    "    sound = list(map(lambda _sound: round(_sound, 2), sound))\n",
    "    sound_error = list(map(lambda _sound_error: round(_sound_error, 2), sound_error))\n",
    "    mean_error = calculate_delta(_density, stat.mean(_wave_lengths), stat.mean(_frequencies))\n",
    "    mean_sound_error = calculate_sound_delta(stat.mean(_wave_lengths), stat.mean(_frequencies))\n",
    "\n",
    "    # Print final results:\n",
    "    print(\"\")\n",
    "    print(\"speed of sound :\", sound, \" +- \", sound_error)\n",
    "    print(\"Mean speed of sound:\", round(stat.mean(sound), 2), \" +- \", round(mean_sound_error, 2))\n",
    "    print(\"adiabatic index κ:\", result, \" +- \", error)\n",
    "    print(\"Mean adiabatic index κ:\", round(stat.mean(result), 2), \" +- \", round(mean_error, 2))"
   ]
  },
  {
   "cell_type": "code",
   "execution_count": null,
   "id": "d8ef797b",
   "metadata": {
    "collapsed": false,
    "pycharm": {
     "name": "#%%\n"
    }
   },
   "outputs": [],
   "source": []
  }
 ],
 "metadata": {
  "kernelspec": {
   "display_name": "Python 3 (ipykernel)",
   "language": "python",
   "name": "python3"
  },
  "language_info": {
   "codemirror_mode": {
    "name": "ipython",
    "version": 3
   },
   "file_extension": ".py",
   "mimetype": "text/x-python",
   "name": "python",
   "nbconvert_exporter": "python",
   "pygments_lexer": "ipython3",
   "version": "3.9.7"
  }
 },
 "nbformat": 4,
 "nbformat_minor": 5
}
