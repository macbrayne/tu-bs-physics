{
 "cells": [
  {
   "cell_type": "markdown",
   "id": "685a6743-e5c1-4b1b-8bfc-f532aed4c461",
   "metadata": {},
   "source": [
    "# 08 Adiabatenkoeffizient\n",
    "\n",
    "## 1. \n",
    "Nullpunkt 10 Torr - keine Änderung\n",
    "\n",
    "2. Durchführung des Experimentes mit Luft\n",
    "\n",
    "Null: 0 mm\n",
    "\n",
    "Level | Unten | Ende  | Zeit    | Kästchen\n",
    "----- | ----- | ----- | ------- | --------\n",
    "220mm | 100mm | 158mm | 100ms/k | 2.5\n",
    "220mm |  85mm | 111mm | 50ms/k  | 5.2\n",
    "~~220mm~~ |  ~~50mm~~ | ~~130mm~~ | ~~100ms/k~~ | ~~4.2~~ Ventil nicht zu\n",
    "220mm |  75mm | 133mm | 100ms/k | 4.2\n",
    "220mm |  30mm | 106mm | 100ms/k | 6.4\n",
    "220mm |  20mm |  81mm | 100ms/k | 8.8\n",
    "220mm |  10mm |  58mm | 200ms/k | 6.05\n",
    "220mm |  -5mm |  50mm | 200ms/k | 7.3\n",
    "220mm | -15mm |  50mm | 200ms/k | 7.5 (Video)\n",
    "\n",
    "3. "
   ]
  },
  {
   "cell_type": "markdown",
   "id": "014678bd-75e1-4945-8549-43cedb5a1c44",
   "metadata": {},
   "source": [
    "## CO2\n",
    "\n",
    "1% Messungenauigkeit\n",
    "\n",
    "Level | Unten | Ende  | Zeit    | Kästchen\n",
    "----- | ----- | ----- | ------- | --------\n",
    "900   | 870   | 880   | 50ms/k  | 5.1\n",
    "900   | 867   | 873   | 50ms/k  | 8.6\n",
    "900   | 850   | 861   | 100ms/k | 6.6\n",
    "900   | 842   | 853   | 100ms/k | 9.1\n",
    "900   | 828   | 840   | 200ms/k | 5.5\n",
    "900   | 820   | 836   | 200ms/k | 6.6\n",
    "900   | 815   | 830   | 200ms/k | 7.5\n"
   ]
  },
  {
   "cell_type": "markdown",
   "id": "d2aabc74-5aa7-49b3-98a5-1f44fe8ade0a",
   "metadata": {},
   "source": [
    "## Argon\n",
    "\n",
    "1% Messungenauigkeit\n",
    "\n",
    "Torr  | Torr  | Torr  | s       | :)\n",
    "----- | ----- | ----- | ------- | --------\n",
    "Level | Unten | Ende  | Zeit    | Kästchen\n",
    "900   | 875   | 880   | 50ms/k  | 5.2\n",
    "900   | 860   | 870   | 50ms/k  | 8.6\n",
    "900   | 843   | 860   | 100ms/k | 7.0\n",
    "900   | 830   | 853   | 100ms/k | 8.8\n",
    "900   | 800   | 830   | 200ms/k | 7.5\n",
    "900   | 810   | 840   | 200ms/k | 6.5\n",
    "900   | 796   | 830   | 200ms/k | 7.6"
   ]
  },
  {
   "cell_type": "markdown",
   "id": "253eda1c-52a4-4862-bc98-22c926036b5e",
   "metadata": {},
   "source": [
    "# Teil 2\n",
    "\n",
    "Ton: 4000Hz, gemessen: 4.4 kHz\n",
    "\n",
    "## Luft\n",
    "\n",
    "650 Hz +- 40 Hz; Wellenberg - Wellental = | 40 - 62 | = 22 cm; * 2\n",
    "\n",
    "1.1 kHz +- 40 Hz; Wellenberg - Wellenberg = | 32 - 53 | = 21 cm; * 4\n",
    "\n",
    "2.1 kHz +- 40 Hz; Wellenberg - Wellenberg = | 60 - 51 | = 9 cm; * 4\n",
    "\n",
    "## CO2\n",
    "\n",
    "900 Hz +- 40Hz; Wellental - Wellental = | 83 - 63 | = 20cm\n",
    "\n",
    "1.57 kHz +- 200 Hz; Wellental - Wellental = | 63 - 46 | = 17 cm\n",
    "\n",
    "550 Hz +- 40 Hz; Wellental - Wellental = | 62 - 22 | =  30cm\n",
    "\n",
    "\n",
    "## Argon\n",
    "\n",
    "630 Hz 61 - 33mm\n",
    "\n",
    "1.24 kHz; 70 - 52mm \n",
    "\n",
    "1.4 kHz; 48.5 - 35mm"
   ]
  },
  {
   "cell_type": "code",
   "execution_count": null,
   "id": "69713336-5f8c-42e4-8bbb-4ff5cfdf9c78",
   "metadata": {},
   "outputs": [],
   "source": []
  }
 ],
 "metadata": {
  "kernelspec": {
   "display_name": "Python 3 (ipykernel)",
   "language": "python",
   "name": "python3"
  },
  "language_info": {
   "codemirror_mode": {
    "name": "ipython",
    "version": 3
   },
   "file_extension": ".py",
   "mimetype": "text/x-python",
   "name": "python",
   "nbconvert_exporter": "python",
   "pygments_lexer": "ipython3",
   "version": "3.9.7"
  }
 },
 "nbformat": 4,
 "nbformat_minor": 5
}
