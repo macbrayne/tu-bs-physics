{
 "cells": [
  {
   "cell_type": "code",
   "execution_count": 45,
   "metadata": {},
   "outputs": [],
   "source": [
    "import calc_errors"
   ]
  },
  {
   "cell_type": "code",
   "execution_count": 46,
   "metadata": {},
   "outputs": [
    {
     "data": {
      "text/latex": [
       "$\\displaystyle \\log{\\left(p \\right)}$"
      ],
      "text/plain": [
       "log(p)"
      ]
     },
     "execution_count": 46,
     "metadata": {},
     "output_type": "execute_result"
    }
   ],
   "source": [
    "from sympy import *\n",
    "\n",
    "ln_p = ln(Symbol('p'))\n",
    "ln_p\n"
   ]
  },
  {
   "cell_type": "code",
   "execution_count": 47,
   "metadata": {},
   "outputs": [
    {
     "name": "stdout",
     "output_type": "stream",
     "text": [
      "E_a: -1.14169300894e-20\n",
      "E_a error: sqrt((\\Delta m*k)**2)\n",
      "15.4285547955173\n",
      "sqrt((\\Delta t*exp(t))**2)\n",
      "0.729153499636146\n"
     ]
    }
   ],
   "source": [
    "\n",
    "calc_errors.calculate_errors(ln_p)\n",
    "\n",
    "m, k, t = symbols(\"m k t\")\n",
    "# p, E_a, T = symbols(\"p E_a T\")\n",
    "\n",
    "_k = 1.3806488e-23 # m^2 kg s^-2 K^-1\n",
    "\n",
    "_m = -826.925 # K\n",
    "print(\"E_a:\", _m * _k)\n",
    "print(\"E_a error:\", calc_errors.calculate_errors(m * k, error_vars=[m]))\n",
    "\n",
    "_t = 2.73622\n",
    "delta_t = 0.04726\n",
    "\n",
    "print(exp(_t))\n",
    "print(calc_errors.calculate_errors(exp(t)))\n",
    "\n",
    "print(delta_t*exp(_t))\n",
    "\n",
    "# print(latex(p * exp(-E_a/(k*T))))\n",
    "# print(latex(calc_errors.calculate_errors(p * exp(-E_a/(k*T)), error_vars=[E_a, T, p])))"
   ]
  },
  {
   "cell_type": "markdown",
   "metadata": {},
   "source": [
    "Durch Einsetzen in Gleichung \\ref{eq:a2:druck} folgt für \n",
    "\n",
    "Der Fehlerterm entspricht\n",
    "\\begin{equation}\n",
    "    \\sqrt{\n",
    "        \\left(e^{\\frac{E_{a}}{T k}} \\Delta \\hat{p}\\right)^{2} +\n",
    "        \\left(\\frac{\\hat{p}}{T k} e^{- \\frac{E_{a}}{T k}}\\Delta E_{a}\\right)^{2} + \\left(\\frac{E_{a} \\hat{p}}{T^{2} k} e^{- \\frac{E_{a}}{T k}} \\Delta T\\right)^{2}}\n",
    "\\end{equation}"
   ]
  },
  {
   "cell_type": "code",
   "execution_count": 57,
   "metadata": {},
   "outputs": [
    {
     "name": "stdout",
     "output_type": "stream",
     "text": [
      "\\sqrt{\\left(\\Delta m_{H_2O} \\left(\\frac{T_\\textrm{System}}{T_\\textrm{Probe} m_{H_2O}} - \\frac{T_\\textrm{System} \\left(C_\\textrm{Thermometer} + c_{H_2O} + m_{H_2O}\\right)}{T_\\textrm{Probe} m_{H_2O}^{2}}\\right)\\right)^{2} + \\left(\\left(- \\frac{T_\\textrm{System} \\Delta T_\\textrm{Probe} \\left(C_\\textrm{Thermometer} + c_{H_2O} + m_{H_2O}\\right)}{T_\\textrm{Probe}^{2} m_{H_2O}}\\right)^{2} + \\left(\\left(\\frac{T_\\textrm{System} \\Delta c_{H_2O}}{T_\\textrm{Probe} m_{H_2O}}\\right)^{2} + \\left(\\left(\\frac{T_\\textrm{System} \\Delta C_\\textrm{Thermometer}}{T_\\textrm{Probe} m_{H_2O}}\\right)^{2} + \\left(\\frac{\\Delta T_\\textrm{System} \\left(C_\\textrm{Thermometer} + c_{H_2O} + m_{H_2O}\\right)}{T_\\textrm{Probe} m_{H_2O}}\\right)^{2}\\right)\\right)\\right)}\n",
      "52.900000000000006\n",
      "5.81031897435898\n"
     ]
    }
   ],
   "source": [
    "C_thermometer, m_H2O, c_H2O, T_system, T_probe, m_probe = symbols(\"C_\\\\textrm{Thermometer} m_{H_2O} c_{H_2O} T_\\\\textrm{System} T_\\\\textrm{Probe} m_\\\\textrm{Probe}\")\n",
    "\n",
    "C_Probe = (C_thermometer + m_H2O + c_H2O) * T_system / (T_probe * m_H2O)\n",
    "delta_C_Probe = calc_errors.calculate_errors(C_Probe)\n",
    "print(latex(delta_C_Probe))\n",
    "\n",
    "_m_H2O = 150 # g\n",
    "_c_H2O = 4.18 # J / g K\n",
    "_C_thermometer = 60 # J / K\n",
    "kupfer_werte = [0.4508, 22, 87.9, 35]\n",
    "_T_probe = kupfer_werte[3] - kupfer_werte[1]\n",
    "_T_system = kupfer_werte[2] - kupfer_werte[3]\n",
    "print(_T_system)\n",
    "\n",
    "_C_Probe = C_Probe.evalf(subs={m_H2O: _m_H2O, C_thermometer: _C_thermometer, c_H2O: _c_H2O})\n",
    "_C_Kupfer = _C_Probe.evalf(subs={m_probe: kupfer_werte[0], T_probe: _T_probe, T_system: _T_system})\n",
    "print(_C_Kupfer)"
   ]
  }
 ],
 "metadata": {
  "interpreter": {
   "hash": "8f1b9584029a66908e8ded5bec7ae300e5e3a783ed76fc573b4ced5ade906a79"
  },
  "kernelspec": {
   "display_name": "Python 3.10.2 64-bit (windows store)",
   "language": "python",
   "name": "python3"
  },
  "language_info": {
   "codemirror_mode": {
    "name": "ipython",
    "version": 3
   },
   "file_extension": ".py",
   "mimetype": "text/x-python",
   "name": "python",
   "nbconvert_exporter": "python",
   "pygments_lexer": "ipython3",
   "version": "3.9.7"
  },
  "orig_nbformat": 4
 },
 "nbformat": 4,
 "nbformat_minor": 2
}
