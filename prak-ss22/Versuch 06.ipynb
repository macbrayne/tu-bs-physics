{
 "cells": [
  {
   "cell_type": "code",
   "execution_count": 87,
   "metadata": {},
   "outputs": [],
   "source": [
    "import calc_errors"
   ]
  },
  {
   "cell_type": "code",
   "execution_count": 88,
   "metadata": {},
   "outputs": [
    {
     "data": {
      "text/latex": [
       "$\\displaystyle \\log{\\left(p \\right)}$"
      ],
      "text/plain": [
       "log(p)"
      ]
     },
     "execution_count": 88,
     "metadata": {},
     "output_type": "execute_result"
    }
   ],
   "source": [
    "from sympy import *\n",
    "\n",
    "ln_p = ln(Symbol('p'))\n",
    "ln_p\n"
   ]
  },
  {
   "cell_type": "code",
   "execution_count": 89,
   "metadata": {},
   "outputs": [
    {
     "name": "stdout",
     "output_type": "stream",
     "text": [
      "E_a: -1.14169300894e-20\n",
      "E_a error: sqrt((\\Delta m*k)**2)\n",
      "15.4285547955173\n",
      "sqrt((\\Delta t*exp(t))**2)\n",
      "0.729153499636146\n"
     ]
    }
   ],
   "source": [
    "\n",
    "calc_errors.calculate_errors(ln_p)\n",
    "\n",
    "m, k, t = symbols(\"m k t\")\n",
    "# p, E_a, T = symbols(\"p E_a T\")\n",
    "\n",
    "_k = 1.3806488e-23 # m^2 kg s^-2 K^-1\n",
    "\n",
    "_m = -826.925 # K\n",
    "print(\"E_a:\", _m * _k)\n",
    "print(\"E_a error:\", calc_errors.calculate_errors(m * k, error_vars=[m]))\n",
    "\n",
    "_t = 2.73622\n",
    "delta_t = 0.04726\n",
    "\n",
    "print(exp(_t))\n",
    "print(calc_errors.calculate_errors(exp(t)))\n",
    "\n",
    "print(delta_t*exp(_t))\n",
    "\n",
    "# print(latex(p * exp(-E_a/(k*T))))\n",
    "# print(latex(calc_errors.calculate_errors(p * exp(-E_a/(k*T)), error_vars=[E_a, T, p])))"
   ]
  },
  {
   "cell_type": "markdown",
   "metadata": {},
   "source": [
    "Durch Einsetzen in Gleichung \\ref{eq:a2:druck} folgt für \n",
    "\n",
    "Der Fehlerterm entspricht\n",
    "\\begin{equation}\n",
    "    \\sqrt{\n",
    "        \\left(e^{\\frac{E_{a}}{T k}} \\Delta \\hat{p}\\right)^{2} +\n",
    "        \\left(\\frac{\\hat{p}}{T k} e^{- \\frac{E_{a}}{T k}}\\Delta E_{a}\\right)^{2} + \\left(\\frac{E_{a} \\hat{p}}{T^{2} k} e^{- \\frac{E_{a}}{T k}} \\Delta T\\right)^{2}}\n",
    "\\end{equation}"
   ]
  },
  {
   "cell_type": "code",
   "execution_count": 90,
   "metadata": {},
   "outputs": [
    {
     "name": "stdout",
     "output_type": "stream",
     "text": [
      "\\sqrt{\\left(\\frac{T_\\textrm{System} \\Delta m_{H_2O} c_{H_2O}}{T_\\textrm{Probe} m_\\textrm{Probe}}\\right)^{2} + \\left(\\left(\\frac{\\Delta T_\\textrm{System} \\left(C_\\textrm{D} + c_{H_2O} m_{H_2O}\\right)}{T_\\textrm{Probe} m_\\textrm{Probe}}\\right)^{2} + \\left(\\left(- \\frac{T_\\textrm{System} \\Delta T_\\textrm{Probe} \\left(C_\\textrm{D} + c_{H_2O} m_{H_2O}\\right)}{T_\\textrm{Probe}^{2} m_\\textrm{Probe}}\\right)^{2} + \\left(- \\frac{T_\\textrm{System} \\Delta m_\\textrm{Probe} \\left(C_\\textrm{D} + c_{H_2O} m_{H_2O}\\right)}{T_\\textrm{Probe} m_\\textrm{Probe}^{2}}\\right)^{2}\\right)\\right)}\n",
      "[450.8, 22, 87.9, 35, 52.900000000000006, 13]\n",
      "_C_Kupfer 0.374507491827174\n",
      "0.0605574640696705\n",
      "Molar 23.7984530756496\n",
      "Molar Delta 3.84818461177128\n",
      "[426.7, 22, 87.9, 30, 57.900000000000006, 8]\n",
      "0.222456713833480\n",
      "0.0566089987819336\n",
      "Molar 14.1362343372623\n",
      "Molar 14.5506711951341\n",
      "Molar Delta 3.59727543659675\n",
      "Molar Delta 3.70273800132749\n",
      "[143.1, 22, 87.9, 30, 57.900000000000006, 8]\n",
      "0.663328300438477\n",
      "0.170204823565612\n",
      "Molar 17.8976177447562\n",
      "Molar Delta 4.59238791481886\n"
     ]
    }
   ],
   "source": [
    "C_thermometer, m_H2O, c_H2O, T_system, T_probe, m_probe = symbols(\"C_\\\\textrm{D} m_{H_2O} c_{H_2O} T_\\\\textrm{System} T_\\\\textrm{Probe} m_\\\\textrm{Probe}\")\n",
    "_c_Probe, m = symbols(\"c_\\\\textrm{Probe} m\")\n",
    "C_Probe = (C_thermometer + m_H2O * c_H2O) * T_system / (T_probe * m_probe)\n",
    "# print(latex(C_Probe))\n",
    "delta_C_Probe = calc_errors.calculate_errors(C_Probe, error_vars=[m_probe, T_probe, T_system, m_H2O])\n",
    "# print(delta_C_Probe)\n",
    "print(latex(delta_C_Probe))\n",
    "\n",
    "molar = _c_Probe * m\n",
    "delta_molar = calc_errors.calculate_errors(molar, error_vars=[_c_Probe])\n",
    "\n",
    "_m_H2O = 150 # g\n",
    "_c_H2O = 4.18 # J / g K\n",
    "_C_thermometer = 60 # J / K\n",
    "def calc_delta(t_m_0, t_s_0, t_1):\n",
    "    return [t_m_0 - t_1, t_1 - t_s_0]\n",
    "\n",
    "_C_Probe = C_Probe.evalf(subs={m_H2O: _m_H2O, C_thermometer: _C_thermometer, c_H2O: _c_H2O})\n",
    "_delta_C_Probe = delta_C_Probe.evalf(subs={m_H2O: _m_H2O, C_thermometer: _C_thermometer, c_H2O: _c_H2O, delta_T_system: 2, delta_T_probe: 2, delta_m_probe: 5, delta_m_h2o: 5})\n",
    "\n",
    "delta_T_system = Symbol(\"\\\\Delta T_\\\\textrm{System}\")\n",
    "delta_T_probe = Symbol(\"\\\\Delta T_\\\\textrm{Probe}\")\n",
    "delta_m_probe = Symbol(\"\\\\Delta m_\\\\textrm{Probe}\")\n",
    "delta_m_h2o = Symbol(\"\\\\Delta m_{H_2O}\")\n",
    "\n",
    "\n",
    "kupfer_werte = [450.8, 22, 87.9, 35]\n",
    "kupfer_werte += calc_delta(kupfer_werte[2], kupfer_werte[1], kupfer_werte[3])\n",
    "print(kupfer_werte)\n",
    "_C_Kupfer = _C_Probe.evalf(subs={m_probe: kupfer_werte[0], T_probe: kupfer_werte[4], T_system: kupfer_werte[5]})\n",
    "print(\"_C_Kupfer\", _C_Kupfer)\n",
    "_delta_C_Kupfer = _delta_C_Probe.evalf(subs={m_probe: kupfer_werte[0], T_probe: kupfer_werte[4], T_system: kupfer_werte[5]})\n",
    "print(_delta_C_Kupfer)\n",
    "print(\"Molar\", molar.evalf(subs={_c_Probe: _C_Kupfer, m_probe: kupfer_werte[0], m: 63.546}))\n",
    "print(\"Molar Delta\", delta_molar.evalf(subs={Symbol(\"\\\\Delta c_\\\\textrm{Probe}\"): _delta_C_Kupfer, _c_Probe: _C_Kupfer, m: 63.546}))\n",
    "\n",
    "messing_werte = [426.7, 22, 87.9, 30]\n",
    "messing_werte += calc_delta(messing_werte[2], messing_werte[1], messing_werte[3])\n",
    "print(messing_werte)\n",
    "_C_Messing = _C_Probe.evalf(subs={m_probe: messing_werte[0], T_probe: messing_werte[4], T_system: messing_werte[5]})\n",
    "print(_C_Messing)\n",
    "delta_C_Messing = _delta_C_Probe.evalf(subs={m_probe: messing_werte[0], T_probe: messing_werte[4], T_system: messing_werte[5]})\n",
    "print(delta_C_Messing)\n",
    "print(\"Molar\", molar.evalf(subs={_c_Probe: _C_Messing, m_probe: messing_werte[0], m: 63.546}))\n",
    "print(\"Molar\", molar.evalf(subs={_c_Probe: _C_Messing, m_probe: messing_werte[0], m: 65.409}))\n",
    "print(\"Molar Delta\", delta_molar.evalf(subs={Symbol(\"\\\\Delta c_\\\\textrm{Probe}\"): delta_C_Messing, _c_Probe: _C_Messing, m : 63.546}))\n",
    "print(\"Molar Delta\", delta_molar.evalf(subs={Symbol(\"\\\\Delta c_\\\\textrm{Probe}\"): delta_C_Messing, _c_Probe: _C_Messing, m: 65.409}))\n",
    "\n",
    "alu_werte = [143.1, 22, 87.9, 30]\n",
    "alu_werte += calc_delta(alu_werte[2], alu_werte[1], alu_werte[3])\n",
    "print(alu_werte)\n",
    "_C_Alu = _C_Probe.evalf(subs={m_probe: alu_werte[0], T_probe: alu_werte[4], T_system: alu_werte[5]})\n",
    "print(_C_Alu)\n",
    "delta_C_Alu = _delta_C_Probe.evalf(subs={m_probe: alu_werte[0], T_probe: alu_werte[4], T_system: alu_werte[5]})\n",
    "print(delta_C_Alu)\n",
    "print(\"Molar\", molar.evalf(subs={_c_Probe: _C_Alu, m_probe: alu_werte[0], m: 26.981538}))\n",
    "print(\"Molar Delta\", delta_molar.evalf(subs={Symbol(\"\\\\Delta c_\\\\textrm{Probe}\"): delta_C_Alu, _c_Probe: _C_Alu, m: 26.981538}))\n"
   ]
  },
  {
   "cell_type": "markdown",
   "metadata": {},
   "source": [
    "\\begin{equation}\n",
    "\\frac{T_\\textrm{System} \\left(C_\\textrm{Thermometer} + c_{H_2O} + m_{H_2O}\\right)}{T_\\textrm{Probe} m_\\textrm{Probe}}\n",
    "\\end{equation}\n",
    "\n",
    "\\begin{equation}\n",
    "    \\left(\n",
    "        \\frac{T_\\textrm{System} \\Delta m_{H_2O} c_{H_2O}}{T_\\textrm{Probe} m_\\textrm{Probe}}\\right)^{2} + \n",
    "    \n",
    "        \\left(\\frac{\\Delta T_\\textrm{System} \\left(C_\\textrm{Thermometer} + c_{H_2O} m_{H_2O}\\right)}{T_\\textrm{Probe} m_\\textrm{Probe}}\\right)^{2} +\n",
    "    \n",
    "        \\left(- \\frac{T_\\textrm{System} \\Delta T_\\textrm{Probe} \\left(C_\\textrm{Thermometer} + c_{H_2O} m_{H_2O}\\right)}{T_\\textrm{Probe}^{2} m_\\textrm{Probe}}\\right)^{2} +\n",
    "    \\left(- \\frac{T_\\textrm{System} \\Delta m_\\textrm{Probe} \\left(C_\\textrm{Thermometer} + c_{H_2O} m_{H_2O}\\right)}{T_\\textrm{Probe} m_\\textrm{Probe}^{2}}\\right)^{2}\n",
    "\n",
    "\\end{equation}"
   ]
  },
  {
   "cell_type": "markdown",
   "metadata": {},
   "source": []
  }
 ],
 "metadata": {
  "interpreter": {
   "hash": "8f1b9584029a66908e8ded5bec7ae300e5e3a783ed76fc573b4ced5ade906a79"
  },
  "kernelspec": {
   "display_name": "Python 3.10.2 64-bit (windows store)",
   "language": "python",
   "name": "python3"
  },
  "language_info": {
   "codemirror_mode": {
    "name": "ipython",
    "version": 3
   },
   "file_extension": ".py",
   "mimetype": "text/x-python",
   "name": "python",
   "nbconvert_exporter": "python",
   "pygments_lexer": "ipython3",
   "version": "3.9.7"
  },
  "orig_nbformat": 4
 },
 "nbformat": 4,
 "nbformat_minor": 2
}
