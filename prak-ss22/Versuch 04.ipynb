{
 "cells": [
  {
   "cell_type": "code",
   "execution_count": 34,
   "metadata": {},
   "outputs": [],
   "source": [
    "import calc_errors"
   ]
  },
  {
   "cell_type": "markdown",
   "metadata": {},
   "source": [
    "# Versuch 04\n",
    "## Teil 1\n",
    "\n",
    "Masse 1:\n",
    "\n",
    "Masse 2:\n",
    "\n",
    "Schwingungsdauer über 20 Schwingungen:\n",
    "\n",
    "| r | T1 | T2 | T3 |\n",
    "|---|---|---|---|\n",
    "|   |   |   |   |\n",
    "\n",
    "## Teil 2: Trägheitsmoment Würfel\n",
    "\n",
    "Leer:\n",
    "\n",
    "| T1 | T2 | T3 |\n",
    "|---|---|---|\n",
    "|   |   |   |\n",
    "\n",
    "Würfel gerade:\n",
    "| \\phi | T1 | T2 | T3 |\n",
    "|---|---|---|---|\n",
    "| 0 |   |   |   |\n",
    "| 15 |   |   |   |\n",
    "| 30 |   |   |   |\n",
    "| 45 |   |   |   |\n",
    "| 60 |   |   |   |\n",
    "| 75 |   |   |   |\n",
    "| 90 |   |   |   |\n",
    "\n",
    "Würfel schräg:\n",
    "\n",
    "| \\phi | T1 | T2 | T3 |\n",
    "|---|---|---|---|\n",
    "| 0 |   |   |   |\n",
    "| 15 |   |   |   |\n",
    "| 30 |   |   |   |\n",
    "| 45 |   |   |   |\n",
    "| 60 |   |   |   |\n",
    "| 75 |   |   |   |\n",
    "| 90 |   |   |   |\n",
    "\n",
    "## Teil 3: Trägheitsmoment Quader\n",
    "\n",
    "| \\phi | T1 | T2 | T3 |\n",
    "|---|---|---|---|\n",
    "| 0 |   |   |   |\n",
    "| 15 |   |   |   |\n",
    "| 30 |   |   |   |\n",
    "| 45 |   |   |   |\n",
    "| 60 |   |   |   |\n",
    "| 75 |   |   |   |\n",
    "| 90 |   |   |   |\n",
    "\n",
    "\n",
    "## Teil 4: Kreisel\n",
    "\n",
    "### a)\n",
    "\n",
    "Lage:\n",
    "\n",
    "m_Gewicht:\n",
    "\n",
    "d_Gewicht:\n",
    "\n",
    "### Quantitativ:\n",
    "10+ Messungen\n",
    "\n",
    "| Pos. | T1 | T2 | Perioden|\n",
    "|------|----|----|---------|\n",
    "|||||\n",
    "|||||\n",
    "|||||\n",
    "|||||\n",
    "|||||\n",
    "|||||\n"
   ]
  }
 ],
 "metadata": {
  "kernelspec": {
   "display_name": "Python 3.8.13 64-bit ('3.8.13')",
   "language": "python",
   "name": "python3"
  },
  "language_info": {
   "codemirror_mode": {
    "name": "ipython",
    "version": 3
   },
   "file_extension": ".py",
   "mimetype": "text/x-python",
   "name": "python",
   "nbconvert_exporter": "python",
   "pygments_lexer": "ipython3",
   "version": "3.8.13"
  },
  "orig_nbformat": 4,
  "vscode": {
   "interpreter": {
    "hash": "110cc1dee26208153f2972f08a2ad52b6a56238dc66d48e87fb757ef2996db56"
   }
  }
 },
 "nbformat": 4,
 "nbformat_minor": 2
}
