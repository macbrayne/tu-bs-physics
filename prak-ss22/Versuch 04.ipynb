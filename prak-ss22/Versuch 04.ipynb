{
 "cells": [
  {
   "cell_type": "code",
   "execution_count": 49,
   "metadata": {},
   "outputs": [],
   "source": [
    "import calc_errors"
   ]
  },
  {
   "cell_type": "markdown",
   "metadata": {},
   "source": [
    "# Versuch 04\n",
    "## Teil 1\n",
    "\n",
    "Masse 1 + Masse 2: 113.2g +- 0.1g\n",
    "\n",
    "Kantenlänge: \n",
    "\n",
    "Schwingungsdauer über 19 Schwingungen:\n",
    "\n",
    "Abstand beider Außenseiten\n",
    "d in cm, T1, T2, T3 in s\n",
    "\n",
    "| d | T1 | T2 | T3 |\n",
    "|---|---|---|---|\n",
    "| 5.8 | 15.45  | 15.5  | 15.48  |\n",
    "| 7.8 | 16.63 | 17.0  |  16.85  |\n",
    "| 9.8 | 18.22 | 18.34 | 18.25  |\n",
    "| 11.8 | 20.04 | 20.20 | 20.14  |\n",
    "| 13.8 | 22.12 | 21.81 | 22.15  |\n",
    "| 15.8 | 24.31 | 24.40 | 24.23  |\n",
    "| 17.8 | 26.71 | 26.96 | 26.61  \n",
    "| 19.8 | 29.11 | 29.06 | 28.95 |\n",
    "| 21.8 | 31.46 | 31.53 | 31.64 |\n",
    "| 23.8 | 34.02 | 34.00 | 33.92 |\n",
    "\n",
    "## Teil 2: Trägheitsmoment Würfel\n",
    "\n",
    "Andere Torsionsdrähte!\n",
    "\n",
    "Leer:\n",
    "\n",
    "| T1 | T2 | T3 |\n",
    "|---|---|---|\n",
    "| 8.587 |   |   |\n",
    "\n",
    "Würfel gerade:\n",
    "\n",
    "| \\phi | T1 | T2 | T3 |\n",
    "|---|---|---|---|\n",
    "| 0 | 10,991 | 11,057  | 11,020 |\n",
    "| 15 | 11,137 | 11,030 | 11,083 |\n",
    "| 30 | 11,243 | 11,258 | 11,354 |\n",
    "| 45 | 11,217 | 11,078 | 11,067 |\n",
    "| 60 | 11,096 | 11,010 | 11,002 |\n",
    "| 75 | 11,029 | 11,071 | 11,088 |\n",
    "| 90 | 11,063 | 11,035 | 11,072 |\n",
    "\n",
    "Würfel schräg:\n",
    "\n",
    "| \\phi | T1 | T2 | T3 |\n",
    "|---|---|---|---|\n",
    "| 0 | 10,918 | 11,104  | 11,017 |\n",
    "| 15 | 11,052 | 10,983 | 11,084 |\n",
    "| 30 | 11,056 | 11,084 | 11,085 |\n",
    "| 45 | 11,048 | 11,033 | 11,049 |\n",
    "| 60 | 11,099 | 11,036 | 11,049 |\n",
    "| 75 | 11,062 | 11,066 | 11.083 |\n",
    "| 90 | 10,934 | 11,067 | 11,015 |\n",
    "\n",
    "## Teil 3: Trägheitsmoment Quader\n",
    "\n",
    "| \\phi | T1 | T2 | T3 |\n",
    "|---|---|---|---|\n",
    "| 0 | 18.86 | 18.71 | 18.83 |\n",
    "| 15 | 18.26 | 18.51 | 18.40 / 18.58 |\n",
    "| 30 | 17.50 | 17.60 | 17.56 |\n",
    "| 45 | 16.31 | 16.51 | 17.50 |\n",
    "| 60?? 45 | 16.36 | 16.40 | 16.33 |\n",
    "| ~~75~~ 60 | 14.97 | 14.87 | 15.04 |\n",
    "| ~~90~~ 75 | 13.92 | 13.81 | 13.85 |\n",
    "| 90 | 13.34 | 13.37 | 13.42 |\n",
    "\n",
    "\n",
    "## Teil 4: Kreisel\n",
    "\n",
    "### a)\n",
    "\n",
    "Lage: 1.2inch\n",
    "\n",
    "m_Gewicht: 177.1g\n",
    "\n",
    "d_Gewicht = h_Gewicht: 3cm\n",
    "\n",
    "Anwendung: Flugzeug, etc.\n",
    "http://www.thomas-wilhelm.net/Vortraege/Kreisel.pdf\n",
    "https://de.wikipedia.org/wiki/K%C3%BCnstlicher_Horizont#Aufbau\n",
    "https://de.wikipedia.org/wiki/Kreiseltheorie#Drallstabilisierung\n",
    "\n",
    "Bleibt stabil\n",
    "\n",
    "### b)\n",
    "\n",
    "Nutation, dann abklingen\n",
    "\n",
    "### c)\n",
    "\n",
    "Je weiter draußen, desto größer die Kegel. Innen schnelleres abklingen\n",
    "\n",
    "\n",
    "### Quantitativ:\n",
    "10+ Messungen\n",
    "\n",
    "pos in inch\n",
    "\n",
    "| Pos. | T1 | T2 | Perioden|\n",
    "|------|----|----|---------|\n",
    "| 0.32 | l 1:05.22 | 1:03.56 | 4 |\n",
    "| 0.83 | l 1:57.16 | 2:01.40 | 3 |\n",
    "| 1.16| unendlich | unendlich ||\n",
    "| 1.56 | r 1:31.35  | - | 4 |\n",
    "| 1.90 | r 0:47.44 | - | 4 |\n",
    "| 2.55 | r 0:32.60 | - | 4 |\n",
    "| 2.656 | r 0:24.30 | - | 4 |\n",
    "| 2.955 | r 0:21.87 | - | 4 |"
   ]
  },
  {
   "cell_type": "code",
   "execution_count": 50,
   "metadata": {},
   "outputs": [
    {
     "name": "stdout",
     "output_type": "stream",
     "text": [
      "_dTheta0 \\sqrt{\\left(\\frac{T^{2} \\Delta D}{1444 \\pi^{2}}\\right)^{2} + \\left(\\frac{D T \\Delta T}{722 \\pi^{2}}\\right)^{2}}\n",
      "_dTheta \\sqrt{\\left(\\frac{D T \\Delta T}{2 \\pi^{2}}\\right)^{2} + \\left(\\left(- \\Delta \\Theta_{0}\\right)^{2} + \\left(\\frac{T^{2} \\Delta D}{4 \\pi^{2}}\\right)^{2}\\right)} sqrt((D*T*\\Delta T/(2*pi**2))**2 + (-\\Delta \\Theta_0)**2 + (T**2*\\Delta D/(4*pi**2))**2)\n",
      "_dR \\sqrt{\\left(- \\frac{0.5 \\Delta \\Theta}{\\Theta^{1.5}}\\right)^{2}} sqrt((-0.5*\\Delta \\Theta/\\Theta**1.5)**2)\n"
     ]
    }
   ],
   "source": [
    "from sympy import *\n",
    "_Theta, _Theta0, _D, _T = symbols(\"\\\\Theta \\\\Theta_0 D T\")\n",
    "# Gleichung 27\n",
    "__Theta0 = ((_T/19)**2 * _D)/(4*pi**2)\n",
    "_dTheta0 = calc_errors.calculate_errors(__Theta0)\n",
    "print(\"_dTheta0\", latex(_dTheta0))\n",
    "# Gleichung 31\n",
    "__Theta = (_T**2 * _D)/(4*pi**2) - _Theta0\n",
    "_dTheta = calc_errors.calculate_errors(__Theta)\n",
    "print(\"_dTheta\", latex(_dTheta), _dTheta)\n",
    "\n",
    "# Gleichung R = Theta^-1/2\n",
    "_dR = calc_errors.calculate_errors(_Theta**(-1/2))\n",
    "print(\"_dR\", latex(_dR), _dR)"
   ]
  },
  {
   "cell_type": "code",
   "execution_count": 51,
   "metadata": {},
   "outputs": [
    {
     "name": "stdout",
     "output_type": "stream",
     "text": [
      "0.4519473684210526\n",
      "sqrt((\\Delta T/19)**2)\n",
      "0.00526315789473684\n",
      "Theta0 0.000132933763507950\n",
      "dTheta0 3.27625364128789e-6\n"
     ]
    }
   ],
   "source": [
    "D = 0.025693266 # Richtmoment\n",
    "T = 8.587 # 19 Schwingungen\n",
    "dD = 0.000207053\n",
    "dT = 0.1\n",
    "print(T / 19)\n",
    "__T = calc_errors.calculate_errors(_T / 19)\n",
    "print(__T)\n",
    "print(__T.evalf(subs={_T: T, Symbol(\"\\\\Delta T\"): dT}))\n",
    "Theta0 = __Theta0.evalf(subs={_T: T, _D: D})\n",
    "print(\"Theta0\", Theta0)\n",
    "dTheta0 = _dTheta0.evalf(subs={_T: T, _D: D, Symbol(\"\\\\Delta D\"): dD, Symbol(\"\\\\Delta T\"): dT})\n",
    "print(\"dTheta0\", dTheta0)"
   ]
  }
 ],
 "metadata": {
  "kernelspec": {
   "display_name": "Python 3 (ipykernel)",
   "language": "python",
   "name": "python3"
  },
  "language_info": {
   "codemirror_mode": {
    "name": "ipython",
    "version": 3
   },
   "file_extension": ".py",
   "mimetype": "text/x-python",
   "name": "python",
   "nbconvert_exporter": "python",
   "pygments_lexer": "ipython3",
   "version": "3.8.13"
  },
  "vscode": {
   "interpreter": {
    "hash": "110cc1dee26208153f2972f08a2ad52b6a56238dc66d48e87fb757ef2996db56"
   }
  }
 },
 "nbformat": 4,
 "nbformat_minor": 4
}
